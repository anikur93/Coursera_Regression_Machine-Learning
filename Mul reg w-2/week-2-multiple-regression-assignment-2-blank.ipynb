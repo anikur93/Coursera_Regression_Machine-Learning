{
 "cells": [
  {
   "cell_type": "markdown",
   "metadata": {},
   "source": [
    "# Regression Week 2: Multiple Regression (gradient descent)"
   ]
  },
  {
   "cell_type": "markdown",
   "metadata": {},
   "source": [
    "In the first notebook we explored multiple regression using graphlab create. Now we will use graphlab along with numpy to solve for the regression weights with gradient descent.\n",
    "\n",
    "In this notebook we will cover estimating multiple regression weights via gradient descent. You will:\n",
    "* Add a constant column of 1's to a graphlab SFrame to account for the intercept\n",
    "* Convert an SFrame into a Numpy array\n",
    "* Write a predict_output() function using Numpy\n",
    "* Write a numpy function to compute the derivative of the regression weights with respect to a single feature\n",
    "* Write gradient descent function to compute the regression weights given an initial weight vector, step size and tolerance.\n",
    "* Use the gradient descent function to estimate regression weights for multiple features"
   ]
  },
  {
   "cell_type": "markdown",
   "metadata": {},
   "source": [
    "# Fire up graphlab create"
   ]
  },
  {
   "cell_type": "markdown",
   "metadata": {},
   "source": [
    "Make sure you have the latest version of graphlab (>= 1.7)"
   ]
  },
  {
   "cell_type": "code",
   "execution_count": 4,
   "metadata": {
    "collapsed": false
   },
   "outputs": [
    {
     "name": "stderr",
     "output_type": "stream",
     "text": [
      "A newer version of GraphLab Create (v1.8.5) is available! Your current version is v1.8.3.\n",
      "\n",
      "You can use pip to upgrade the graphlab-create package. For more information see https://dato.com/products/create/upgrade.\n"
     ]
    }
   ],
   "source": [
    "import graphlab"
   ]
  },
  {
   "cell_type": "markdown",
   "metadata": {},
   "source": [
    "# Load in house sales data\n",
    "\n",
    "Dataset is from house sales in King County, the region where the city of Seattle, WA is located."
   ]
  },
  {
   "cell_type": "code",
   "execution_count": 5,
   "metadata": {
    "collapsed": false
   },
   "outputs": [
    {
     "name": "stderr",
     "output_type": "stream",
     "text": [
      "[INFO] GraphLab Create v1.8.3 started. Logging: C:\\Users\\Anirudh\\AppData\\Local\\Temp\\graphlab_server_1458391067.log.0\n"
     ]
    }
   ],
   "source": [
    "sales = graphlab.SFrame('kc_house_data.gl/')"
   ]
  },
  {
   "cell_type": "code",
   "execution_count": 30,
   "metadata": {
    "collapsed": false,
    "scrolled": true
   },
   "outputs": [
    {
     "data": {
      "text/plain": [
       "221900.0"
      ]
     },
     "execution_count": 30,
     "metadata": {},
     "output_type": "execute_result"
    }
   ],
   "source": [
    "sales['price'][0]"
   ]
  },
  {
   "cell_type": "markdown",
   "metadata": {},
   "source": [
    "If we want to do any \"feature engineering\" like creating new features or adjusting existing ones we should do this directly using the SFrames as seen in the other Week 2 notebook. For this notebook, however, we will work with the existing features."
   ]
  },
  {
   "cell_type": "markdown",
   "metadata": {},
   "source": [
    "# Convert to Numpy Array"
   ]
  },
  {
   "cell_type": "markdown",
   "metadata": {},
   "source": [
    "Although SFrames offer a number of benefits to users (especially when using Big Data and built-in graphlab functions) in order to understand the details of the implementation of algorithms it's important to work with a library that allows for direct (and optimized) matrix operations. Numpy is a Python solution to work with matrices (or any multi-dimensional \"array\").\n",
    "\n",
    "Recall that the predicted value given the weights and the features is just the dot product between the feature and weight vector. Similarly, if we put all of the features row-by-row in a matrix then the predicted value for *all* the observations can be computed by right multiplying the \"feature matrix\" by the \"weight vector\". \n",
    "\n",
    "First we need to take the SFrame of our data and convert it into a 2D numpy array (also called a matrix). To do this we use graphlab's built in .to_dataframe() which converts the SFrame into a Pandas (another python library) dataframe. We can then use Panda's .as_matrix() to convert the dataframe into a numpy matrix."
   ]
  },
  {
   "cell_type": "code",
   "execution_count": 6,
   "metadata": {
    "collapsed": true
   },
   "outputs": [],
   "source": [
    "import numpy as np # note this allows us to refer to numpy as np instead "
   ]
  },
  {
   "cell_type": "markdown",
   "metadata": {},
   "source": [
    "Now we will write a function that will accept an SFrame, a list of feature names (e.g. ['sqft_living', 'bedrooms']) and an target feature e.g. ('price') and will return two things:\n",
    "* A numpy matrix whose columns are the desired features plus a constant column (this is how we create an 'intercept')\n",
    "* A numpy array containing the values of the output\n",
    "\n",
    "With this in mind, complete the following function (where there's an empty line you should write a line of code that does what the comment above indicates)\n",
    "\n",
    "**Please note you will need GraphLab Create version at least 1.7.1 in order for .to_numpy() to work!**"
   ]
  },
  {
   "cell_type": "code",
   "execution_count": 7,
   "metadata": {
    "collapsed": false
   },
   "outputs": [],
   "source": [
    "def get_numpy_data(data_sframe, features, output):\n",
    "    data_sframe['constant'] = 1 # this is how you add a constant column to an SFrame\n",
    "    # add the column 'constant' to the front of the features list so that we can extract it along with the others:\n",
    "    features = ['constant'] + features # this is how you combine two lists\n",
    "    # select the columns of data_SFrame given by the features list into the SFrame features_sframe (now including constant):\n",
    "    features_sframe = data_sframe[features]\n",
    "    # the following line will convert the features_SFrame into a numpy matrix:\n",
    "    feature_matrix = features_sframe.to_numpy()\n",
    "    # assign the column of data_sframe associated with the output to the SArray output_sarray\n",
    "    output_sarray = data_sframe[output]\n",
    "    # the following will convert the SArray into a numpy array by first converting it to a list\n",
    "    output_array = output_sarray.to_numpy()\n",
    "    return(feature_matrix, output_array)"
   ]
  },
  {
   "cell_type": "markdown",
   "metadata": {},
   "source": [
    "For testing let's use the 'sqft_living' feature and a constant as our features and price as our output:"
   ]
  },
  {
   "cell_type": "code",
   "execution_count": 8,
   "metadata": {
    "collapsed": false
   },
   "outputs": [
    {
     "name": "stdout",
     "output_type": "stream",
     "text": [
      "[  1.00000000e+00   1.18000000e+03]\n",
      "221900.0\n"
     ]
    }
   ],
   "source": [
    "(example_features, example_output) = get_numpy_data(sales, ['sqft_living'], 'price') # the [] around 'sqft_living' makes it a list\n",
    "print example_features[0,:] # this accesses the first row of the data the ':' indicates 'all columns'\n",
    "print example_output[0] # and the corresponding output"
   ]
  },
  {
   "cell_type": "markdown",
   "metadata": {},
   "source": [
    "# Predicting output given regression weights"
   ]
  },
  {
   "cell_type": "markdown",
   "metadata": {},
   "source": [
    "Suppose we had the weights [1.0, 1.0] and the features [1.0, 1180.0] and we wanted to compute the predicted output 1.0\\*1.0 + 1.0\\*1180.0 = 1181.0 this is the dot product between these two arrays. If they're numpy arrayws we can use np.dot() to compute this:"
   ]
  },
  {
   "cell_type": "code",
   "execution_count": 9,
   "metadata": {
    "collapsed": false
   },
   "outputs": [
    {
     "name": "stdout",
     "output_type": "stream",
     "text": [
      "1181.0\n"
     ]
    }
   ],
   "source": [
    "my_weights = np.array([1., 1.]) # the example weights\n",
    "my_features = example_features[0,] # we'll use the first data point\n",
    "predicted_value = np.dot(my_features, my_weights)\n",
    "print predicted_value"
   ]
  },
  {
   "cell_type": "markdown",
   "metadata": {},
   "source": [
    "np.dot() also works when dealing with a matrix and a vector. Recall that the predictions from all the observations is just the RIGHT (as in weights on the right) dot product between the features *matrix* and the weights *vector*. With this in mind finish the following predict_output function to compute the predictions for an entire matrix of features given the matrix and the weights:"
   ]
  },
  {
   "cell_type": "code",
   "execution_count": 10,
   "metadata": {
    "collapsed": true
   },
   "outputs": [],
   "source": [
    "def predict_output(feature_matrix, weights):\n",
    "    # assume feature_matrix is a numpy matrix containing the features as columns and weights is a corresponding numpy array\n",
    "    # create the predictions vector by using np.dot()\n",
    "    predictions = np.dot(feature_matrix, weights)\n",
    "    return(predictions)"
   ]
  },
  {
   "cell_type": "markdown",
   "metadata": {},
   "source": [
    "If you want to test your code run the following cell:"
   ]
  },
  {
   "cell_type": "code",
   "execution_count": 11,
   "metadata": {
    "collapsed": false
   },
   "outputs": [
    {
     "name": "stdout",
     "output_type": "stream",
     "text": [
      "1181.0\n",
      "2571.0\n"
     ]
    }
   ],
   "source": [
    "test_predictions = predict_output(example_features, my_weights)\n",
    "print test_predictions[0] # should be 1181.0\n",
    "print test_predictions[1] # should be 2571.0"
   ]
  },
  {
   "cell_type": "markdown",
   "metadata": {},
   "source": [
    "# Computing the Derivative"
   ]
  },
  {
   "cell_type": "markdown",
   "metadata": {},
   "source": [
    "We are now going to move to computing the derivative of the regression cost function. Recall that the cost function is the sum over the data points of the squared difference between an observed output and a predicted output.\n",
    "\n",
    "Since the derivative of a sum is the sum of the derivatives we can compute the derivative for a single data point and then sum over data points. We can write the squared difference between the observed output and predicted output for a single point as follows:\n",
    "\n",
    "(w[0]\\*[CONSTANT] + w[1]\\*[feature_1] + ... + w[i] \\*[feature_i] + ... +  w[k]\\*[feature_k] - output)^2\n",
    "\n",
    "Where we have k features and a constant. So the derivative with respect to weight w[i] by the chain rule is:\n",
    "\n",
    "2\\*(w[0]\\*[CONSTANT] + w[1]\\*[feature_1] + ... + w[i] \\*[feature_i] + ... +  w[k]\\*[feature_k] - output)\\* [feature_i]\n",
    "\n",
    "The term inside the paranethesis is just the error (difference between prediction and output). So we can re-write this as:\n",
    "\n",
    "2\\*error\\*[feature_i]\n",
    "\n",
    "That is, the derivative for the weight for feature i is the sum (over data points) of 2 times the product of the error and the feature itself. In the case of the constant then this is just twice the sum of the errors!\n",
    "\n",
    "Recall that twice the sum of the product of two vectors is just twice the dot product of the two vectors. Therefore the derivative for the weight for feature_i is just two times the dot product between the values of feature_i and the current errors. \n",
    "\n",
    "With this in mind complete the following derivative function which computes the derivative of the weight given the value of the feature (over all data points) and the errors (over all data points)."
   ]
  },
  {
   "cell_type": "code",
   "execution_count": 12,
   "metadata": {
    "collapsed": true
   },
   "outputs": [],
   "source": [
    "def feature_derivative(errors, feature):\n",
    "    # Assume that errors and feature are both numpy arrays of the same length (number of data points)\n",
    "    # compute twice the dot product of these vectors as 'derivative' and return the value\n",
    "    derivative = 2 * np.dot(errors, feature)\n",
    "    return(derivative)"
   ]
  },
  {
   "cell_type": "markdown",
   "metadata": {},
   "source": [
    "To test your feature derivartive run the following:"
   ]
  },
  {
   "cell_type": "code",
   "execution_count": 13,
   "metadata": {
    "collapsed": false
   },
   "outputs": [
    {
     "name": "stdout",
     "output_type": "stream",
     "text": [
      "-23345850022.0\n",
      "-23345850022.0\n"
     ]
    }
   ],
   "source": [
    "(example_features, example_output) = get_numpy_data(sales, ['sqft_living'], 'price') \n",
    "my_weights = np.array([0., 0.]) # this makes all the predictions 0\n",
    "test_predictions = predict_output(example_features, my_weights) \n",
    "# just like SFrames 2 numpy arrays can be elementwise subtracted with '-': \n",
    "errors = test_predictions - example_output # prediction errors in this case is just the -example_output\n",
    "feature = example_features[:,0] # let's compute the derivative with respect to 'constant', the \":\" indicates \"all rows\"\n",
    "derivative = feature_derivative(errors, feature)\n",
    "print derivative\n",
    "print -np.sum(example_output)*2 # should be the same as derivative"
   ]
  },
  {
   "cell_type": "markdown",
   "metadata": {},
   "source": [
    "# Gradient Descent"
   ]
  },
  {
   "cell_type": "markdown",
   "metadata": {},
   "source": [
    "Now we will write a function that performs a gradient descent. The basic premise is simple. Given a starting point we update the current weights by moving in the negative gradient direction. Recall that the gradient is the direction of *increase* and therefore the negative gradient is the direction of *decrease* and we're trying to *minimize* a cost function. \n",
    "\n",
    "The amount by which we move in the negative gradient *direction*  is called the 'step size'. We stop when we are 'sufficiently close' to the optimum. We define this by requiring that the magnitude (length) of the gradient vector to be smaller than a fixed 'tolerance'.\n",
    "\n",
    "With this in mind, complete the following gradient descent function below using your derivative function above. For each step in the gradient descent we update the weight for each feature befofe computing our stopping criteria"
   ]
  },
  {
   "cell_type": "code",
   "execution_count": 14,
   "metadata": {
    "collapsed": true
   },
   "outputs": [],
   "source": [
    "from math import sqrt # recall that the magnitude/length of a vector [g[0], g[1], g[2]] is sqrt(g[0]^2 + g[1]^2 + g[2]^2)"
   ]
  },
  {
   "cell_type": "code",
   "execution_count": 15,
   "metadata": {
    "collapsed": false
   },
   "outputs": [],
   "source": [
    "def regression_gradient_descent(feature_matrix, output, initial_weights, step_size, tolerance):\n",
    "    converged = False \n",
    "    weights = np.array(initial_weights) # make sure it's a numpy array\n",
    "    while not converged:\n",
    "        # compute the predictions based on feature_matrix and weights using your predict_output() function\n",
    "        predictions = predict_output(feature_matrix, initial_weights)\n",
    "        # compute the errors as predictions - output\n",
    "        errors = predictions - output\n",
    "        gradient_sum_squares = 0 # initialize the gradient sum of squares\n",
    "        # while we haven't reached the tolerance yet, update each feature's weight\n",
    "        for i in range(len(weights)): # loop over each weight\n",
    "            # Recall that feature_matrix[:, i] is the feature column associated with weights[i]\n",
    "            # compute the derivative for weight[i]:\n",
    "            derivative = feature_derivative(feature_matrix[:,i], errors)\n",
    "            # add the squared value of the derivative to the gradient sum of squares (for assessing convergence)\n",
    "            gradient_sum_squares = np.dot(derivative,derivative)\n",
    "            # subtract the step size times the derivative from the current weight\n",
    "            initial_weights[i] = initial_weights[i] - (step_size * derivative) \n",
    "        # compute the square-root of the gradient sum of squares to get the gradient matnigude:\n",
    "        gradient_magnitude = sqrt(gradient_sum_squares)\n",
    "        if gradient_magnitude < tolerance:\n",
    "            converged = True\n",
    "    return(weights)"
   ]
  },
  {
   "cell_type": "markdown",
   "metadata": {},
   "source": [
    "A few things to note before we run the gradient descent. Since the gradient is a sum over all the data points and involves a product of an error and a feature the gradient itself will be very large since the features are large (squarefeet) and the output is large (prices). So while you might expect \"tolerance\" to be small, small is only relative to the size of the features. \n",
    "\n",
    "For similar reasons the step size will be much smaller than you might expect but this is because the gradient has such large values."
   ]
  },
  {
   "cell_type": "markdown",
   "metadata": {},
   "source": [
    "# Running the Gradient Descent as Simple Regression"
   ]
  },
  {
   "cell_type": "markdown",
   "metadata": {},
   "source": [
    "First let's split the data into training and test data."
   ]
  },
  {
   "cell_type": "code",
   "execution_count": 16,
   "metadata": {
    "collapsed": false
   },
   "outputs": [],
   "source": [
    "train_data,test_data = sales.random_split(.8,seed=0)"
   ]
  },
  {
   "cell_type": "markdown",
   "metadata": {},
   "source": [
    "Although the gradient descent is designed for multiple regression since the constant is now a feature we can use the gradient descent function to estimat the parameters in the simple regression on squarefeet. The folowing cell sets up the feature_matrix, output, initial weights and step size for the first model:"
   ]
  },
  {
   "cell_type": "code",
   "execution_count": 17,
   "metadata": {
    "collapsed": false
   },
   "outputs": [],
   "source": [
    "# let's test out the gradient descent\n",
    "simple_features = ['sqft_living']\n",
    "my_output = 'price'\n",
    "(simple_feature_matrix, output) = get_numpy_data(train_data, simple_features, my_output)\n",
    "initial_weights = np.array([-47000., 1.])\n",
    "step_size = 7e-12\n",
    "tolerance = 2.5e7"
   ]
  },
  {
   "cell_type": "markdown",
   "metadata": {},
   "source": [
    "Next run your gradient descent with the above parameters."
   ]
  },
  {
   "cell_type": "code",
   "execution_count": 18,
   "metadata": {
    "collapsed": false
   },
   "outputs": [
    {
     "data": {
      "text/plain": [
       "array([ -4.70000000e+04,   1.00000000e+00])"
      ]
     },
     "execution_count": 18,
     "metadata": {},
     "output_type": "execute_result"
    }
   ],
   "source": [
    "ww = regression_gradient_descent(simple_feature_matrix, output, initial_weights, step_size, tolerance)\n",
    "ww"
   ]
  },
  {
   "cell_type": "markdown",
   "metadata": {},
   "source": [
    "How do your weights compare to those achieved in week 1 (don't expect them to be exactly the same)? \n",
    "\n",
    "**Quiz Question: What is the value of the weight for sqft_living -- the second element of ‘simple_weights’ (rounded to 1 decimal place)?**"
   ]
  },
  {
   "cell_type": "markdown",
   "metadata": {},
   "source": [
    "Use your newly estimated weights and your predict_output() function to compute the predictions on all the TEST data (you will need to create a numpy array of the test feature_matrix and test output first:"
   ]
  },
  {
   "cell_type": "code",
   "execution_count": 19,
   "metadata": {
    "collapsed": false
   },
   "outputs": [
    {
     "data": {
      "text/plain": [
       "array([[  1.00000000e+00,   1.43000000e+03],\n",
       "       [  1.00000000e+00,   2.95000000e+03],\n",
       "       [  1.00000000e+00,   1.71000000e+03],\n",
       "       ..., \n",
       "       [  1.00000000e+00,   2.52000000e+03],\n",
       "       [  1.00000000e+00,   2.31000000e+03],\n",
       "       [  1.00000000e+00,   1.02000000e+03]])"
      ]
     },
     "execution_count": 19,
     "metadata": {},
     "output_type": "execute_result"
    }
   ],
   "source": [
    "(test_simple_feature_matrix, test_output) = get_numpy_data(test_data, simple_features, my_output)\n",
    "test_simple_feature_matrix"
   ]
  },
  {
   "cell_type": "markdown",
   "metadata": {},
   "source": [
    "Now compute your predictions using test_simple_feature_matrix and your weights from above."
   ]
  },
  {
   "cell_type": "code",
   "execution_count": 20,
   "metadata": {
    "collapsed": false
   },
   "outputs": [
    {
     "data": {
      "text/plain": [
       "array([-45570., -44050., -45290., ..., -44480., -44690., -45980.])"
      ]
     },
     "execution_count": 20,
     "metadata": {},
     "output_type": "execute_result"
    }
   ],
   "source": [
    "predict_output(test_simple_feature_matrix, ww)"
   ]
  },
  {
   "cell_type": "markdown",
   "metadata": {},
   "source": [
    "**Quiz Question: What is the predicted price for the 1st house in the TEST data set for model 1 (round to nearest dollar)?**"
   ]
  },
  {
   "cell_type": "code",
   "execution_count": 35,
   "metadata": {
    "collapsed": false,
    "scrolled": true
   },
   "outputs": [
    {
     "ename": "TypeError",
     "evalue": "only length-1 arrays can be converted to Python scalars",
     "output_type": "error",
     "traceback": [
      "\u001b[1;31m---------------------------------------------------------------------------\u001b[0m",
      "\u001b[1;31mTypeError\u001b[0m                                 Traceback (most recent call last)",
      "\u001b[1;32m<ipython-input-35-1e54bd06da8b>\u001b[0m in \u001b[0;36m<module>\u001b[1;34m()\u001b[0m\n\u001b[0;32m      1\u001b[0m \u001b[0merr\u001b[0m \u001b[1;33m=\u001b[0m \u001b[0mtest_data\u001b[0m\u001b[1;33m[\u001b[0m\u001b[1;34m'price'\u001b[0m\u001b[1;33m]\u001b[0m \u001b[1;33m-\u001b[0m \u001b[0mpredicte\u001b[0m\u001b[1;33m\u001b[0m\u001b[0m\n\u001b[0;32m      2\u001b[0m \u001b[0mRSS\u001b[0m \u001b[1;33m=\u001b[0m \u001b[0mnp\u001b[0m\u001b[1;33m.\u001b[0m\u001b[0mdot\u001b[0m\u001b[1;33m(\u001b[0m\u001b[0merr\u001b[0m\u001b[1;33m,\u001b[0m\u001b[0merr\u001b[0m\u001b[1;33m)\u001b[0m\u001b[1;33m\u001b[0m\u001b[0m\n\u001b[1;32m----> 3\u001b[1;33m \u001b[0mrr\u001b[0m \u001b[1;33m=\u001b[0m \u001b[0msqrt\u001b[0m\u001b[1;33m(\u001b[0m\u001b[0mRSS\u001b[0m\u001b[1;33m)\u001b[0m\u001b[1;33m\u001b[0m\u001b[0m\n\u001b[0m\u001b[0;32m      4\u001b[0m \u001b[0mrr\u001b[0m\u001b[1;33m\u001b[0m\u001b[0m\n",
      "\u001b[1;31mTypeError\u001b[0m: only length-1 arrays can be converted to Python scalars"
     ]
    }
   ],
   "source": [
    "err = test_data['price'] - predicte\n",
    "RSS = np.dot(err,err)\n",
    "rr = sqrt(RSS)\n",
    "rr"
   ]
  },
  {
   "cell_type": "markdown",
   "metadata": {},
   "source": [
    "Now that you have the predictions on test data, compute the RSS on the test data set. Save this value for comparison later. Recall that RSS is the sum of the squared errors (difference between prediction and output)."
   ]
  },
  {
   "cell_type": "code",
   "execution_count": 37,
   "metadata": {
    "collapsed": true
   },
   "outputs": [
    {
     "data": {
      "text/plain": [
       "array('d', [684865336019103.4, 783931018495379.1, 586421226082679.2, 554421032746545.0, 875253965033642.1, 630437849808942.4, 2057597269284147.0, 545388700640599.9, 770346432822553.2, 682166320696659.5, 567973945483395.4, 549633372375985.7, 541403455728125.0, 543057617892007.8, 538444391562827.44, 971573099198830.1, 761427054945862.5, 823465812592869.4, 714725477690752.5, 895783643943658.5, 607289422770109.4, 775979708131642.9, 537475587059813.4, 538901765396527.3, 652900919186908.0, 632605240901208.5, 1610341724330201.0, 855329261620748.9, 597258134374650.8, 544980658054612.3, 1007506670950600.0, 587434751215616.2, 577568053606017.9, 1056430710233242.8, 576659829785595.0, 651360887491405.9, 583880047758887.2, 1471039408022959.5, 1351848884784227.0, 564034320330379.0, 537124920717986.6, 1134354085385634.8, 589029623906152.0, 623487916013730.9, 1048108654936933.9, 1551122751291110.2, 1202424155532729.0, 573038021799301.8, 538615506195660.4, 542196927060226.4, 538054237228806.8, 540953619841051.1, 2159325291449393.5, 2159325291449393.5, 667575355757811.4, 538444391562827.44, 676085906889097.2, 781680202940415.2, 537731302394470.2, 888873198140639.8, 590069474367216.5, 772544597721260.6, 689355879833628.5, 592771417018497.6, 616806860217241.2, 703230828275283.0, 1327010796187163.5, 547633269458181.8, 946038910555846.2, 576659829785595.0, 838497277213098.9, 1221473599270416.0, 537111758053920.3, 539650124018995.94, 606091620340274.0, 595540579169459.4, 537352904545156.8, 541403455728125.0, 618810674623298.5, 1026718008085544.1, 669220688765826.0, 983952114554969.1, 562165337003391.75, 651360887491405.9, 566747120336829.8, 761427054945862.5, 540953619841051.1, 976235034755778.8, 559300324715727.25, 1811135314001608.2, 626929273161496.4, 775979708131642.9, 983952114554969.1, 793282851057000.5, 781680202940415.2, 613567161568516.1, 556961704020510.94, 547633269458181.8, 615530081803021.2, 1256522460171170.8, 3110290410783492.0, 625573518762892.0, 594448078052137.5, 537205302881731.7, 659333682625248.8, 691132839482284.9, 732795651649964.4, 732795651649964.4, 2927657842510507.0, 811190969479480.2, 5799561243029113.0, 909806194048738.9, 615530081803021.2, 542196927060226.4, 4219333361975411.0, 554421032746545.0, 2294958266781700.0, 1143348335678748.0, 543413009821739.1, 817294781286335.1, 829704063399084.4, 560363573176084.06, 564994019306252.9, 537567725708261.75, 562165337003391.75, 698538625961717.8, 1085156672456599.2, 948947859314016.4, 573038021799301.8, 877899660510530.0, 552363046534753.56, 986992689953775.2, 888873198140639.8, 537731302394470.2, 1448763428300618.5, 538901765396527.3, 934200463555874.1, 842382223510555.5, 545388700640599.9, 773154668039638.0, 636221931219887.4, 565970523157047.5, 793282851057000.5, 560363573176084.06, 755969112807683.8, 719645663831487.4, 676085906889097.2, 931344165453961.6, 645144351395531.0, 597258134374650.8, 680442011704260.4, 902761309246359.0, 667575355757811.4, 2071928185380140.5, 542196927060226.4, 538440847990840.4, 547172576215937.8, 823465812592869.4, 539426358729905.6, 538199026533513.75, 1696071505571507.5, 568776867991306.8, 698538625961717.8, 590069474367216.5, 805154377172306.5, 540018171562965.25, 781680202940415.2, 537111758053920.3, 544980658054612.3, 732795651649964.4, 609170554661509.8, 807510494039783.4, 543985528223469.5, 594448078052137.5, 836009533704980.5, 549633372375985.7, 722671832526349.0, 727700132338313.0, 566747120336829.8, 836009533704980.5, 603079905518719.9, 689355879833628.5, 853967842293451.8, 538054237228806.8, 540953619841051.1, 948947859314016.4, 732795651649964.4, 544980658054612.3, 787447917248866.8, 586421226082679.2, 693913643147833.0, 566747120336829.8, 775979708131642.9, 895783643943658.5, 538901765396527.3, 625573518762892.0, 564034320330379.0, 647475319174005.4, 795586317268221.0, 759281540703411.9, 574387529460523.5, 659333682625248.8, 1152409805471541.5, 632605240901208.5, 576659829785595.0, 546043007385435.06, 1039853819140306.6, 659333682625248.8, 547172576215937.8, 618810674623298.5, 1081800193120249.9, 570044587309425.4, 632605240901208.5, 547172576215937.8, 546043007385435.06, 924097622152540.2, 647475319174005.4, 811190969479480.2, 902761309246359.0, 539426358729905.6, 564034320330379.0, 1120029023947314.6, 946038910555846.2, 1170734403556167.0, 707990250088529.4, 770346432822553.2, 919721945796456.6, 789725058131959.8, 604251382620431.2, 832165481579074.2, 722671832526349.0, 538901765396527.3, 607289422770109.4, 848822132815812.1, 924097622152540.2, 594448078052137.5, 555361598692244.3, 575269427952819.9, 546043007385435.06, 971573099198830.1, 629055770082210.2, 647475319174005.4, 539426358729905.6, 759281540703411.9, 601280561970423.2, 764780377013141.5, 639905841038248.2, 836009533704980.5, 625573518762892.0, 590069474367216.5, 2015007837994247.0, 554421032746545.0, 539650124018995.94, 548856383116493.75, 586421226082679.2, 538444391562827.44, 1107774651504381.1, 557606674559652.5, 558629028848456.6, 541403455728125.0, 1394249820239149.5, 540018171562965.25, 574387529460523.5, 634013645956069.0, 538199026533513.75, 652900919186908.0, 568776867991306.8, 559300324715727.25, 577568053606017.9, 783931018495379.1, 612316708482425.5, 651360887491405.9, 1073276479324899.6, 537352904545156.8, 636221931219887.4, 537165814889539.2, 748485526582991.5, 583880047758887.2, 971573099198830.1, 722671832526349.0, 1010626222333795.5, 541327805667397.9, 577568053606017.9, 836009533704980.5, 700368236266630.1, 584867247563696.4, 677783890553367.0, 4036978940427616.0, 1007506670950600.0, 547172576215937.8, 717710752214062.2, 537124920717986.6, 634013645956069.0, 572182448635134.2, 566747120336829.8, 999587932652373.2, 673468679909757.4, 737958390461293.2, 574387529460523.5, 1482278227133653.0, 931344165453961.6, 1227321465802379.0, 825900905444731.8, 655313675308487.4, 550964599705528.56, 1059708213585207.1, 1081800193120249.9, 961002533656451.2, 656880032332117.0, 598376960820101.1, 541706197001600.25, 603079905518719.9, 961002533656451.2, 537111758053920.3, 537567725708261.75, 7252513442193616.0, 651360887491405.9, 581406088934775.1, 561061194371481.9, 603079905518719.9, 871164547878423.2, 877899660510530.0, 799185004364812.6, 643656970356285.4, 547172576215937.8, 836009533704980.5, 554421032746545.0, 689355879833628.5, 636221931219887.4, 551504268932158.8, 567973945483395.4, 651360887491405.9, 592771417018497.6, 714725477690752.5, 601280561970423.2, 727700132338313.0, 1107774651504381.1, 564784592182033.1, 550964599705528.56, 538054237228806.8, 651360887491405.9, 540268262180183.75, 748485526582991.5, 732795651649964.4, 924097622152540.2, 537111758053920.3, 618810674623298.5, 615530081803021.2, 542525993661829.5, 842382223510555.5, 991736413853827.9, 569625081384244.8, 578999349610344.0, 1394249820239149.5, 562165337003391.75, 552363046534753.56, 817294781286335.1, 537475587059813.4, 698538625961717.8, 537287091224835.9, 976235034755778.8, 610394682419472.6, 2279619058190504.0, 559300324715727.25, 793282851057000.5, 573038021799301.8, 623487916013730.9, 547172576215937.8, 537475587059813.4, 561061194371481.9, 817294781286335.1, 546477375299549.6, 748485526582991.5, 561061194371481.9, 916918298350798.9, 1320753987939679.5, 625573518762892.0, 578999349610344.0, 882029971837301.0, 543413009821739.1, 549633372375985.7, 630437849808942.4, 537124920717986.6, 537124920717986.6, 540268262180183.75, 537165814889539.2, 659333682625248.8, 700368236266630.1, 545388700640599.9, 691132839482284.9, 5091045901927671.0, 676085906889097.2, 766952216583720.6, 941540551685105.5, 632605240901208.5, 542196927060226.4, 727700132338313.0, 538901765396527.3, 546477375299549.6, 1208190233721587.8, 1191123550729502.8, 770346432822553.2, 724633069471902.2, 931344165453961.6, 603079905518719.9, 686615970339632.5, 707990250088529.4, 541403455728125.0, 540268262180183.75, 1090391126415279.0, 931344165453961.6, 598376960820101.1, 643656970356285.4, 805154377172306.5, 557606674559652.5, 583880047758887.2, 759281540703411.9, 591705241229304.1, 540268262180183.75, 781680202940415.2, 848822132815812.1, 1562832106899566.8, 1039853819140306.6, 570873835145464.0, 570873835145464.0, 551504268932158.8, 537287091224835.9, 3739886133042293.0, 1137868516690754.8, 556961704020510.94, 838497277213098.9, 537352904545156.8, 700368236266630.1, 578999349610344.0, 565970523157047.5, 582366963411456.4, 693913643147833.0, 537124920717986.6, 545388700640599.9, 555361598692244.3, 671797021573614.8, 537165814889539.2, 698538625961717.8, 579933898758896.8, 676085906889097.2, 568776867991306.8, 547633269458181.8, 691132839482284.9, 618810674623298.5, 634013645956069.0, 1562832106899566.8, 552363046534753.56, 539099205357487.7, 663420909441690.0, 618810674623298.5, 568776867991306.8, 748485526582991.5, 546477375299549.6, 540677203895703.6, 583880047758887.2, 2249142299507141.5, 924097622152540.2, 729687694611997.8, 538615506195660.4, 589029623906152.0, 851362526980186.5, 562165337003391.75, 1152409805471541.5, 1125427054592204.0, 550146716274486.1, 948947859314016.4, 632605240901208.5, 547172576215937.8, 542525993661829.5, 623487916013730.9, 537287091224835.9, 540268262180183.75, 568776867991306.8, 597258134374650.8, 547633269458181.8, 976235034755778.8, 544980658054612.3, 589029623906152.0, 2909764292931447.5, 554421032746545.0, 698538625961717.8, 618810674623298.5, 783931018495379.1, 589029623906152.0, 1116567243298452.1, 607289422770109.4, 543057617892007.8, 875253965033642.1, 572182448635134.2, 919721945796456.6, 753849923893360.4, 590069474367216.5, 1708587495176129.8, 941540551685105.5, 537849766371041.8, 737958390461293.2, 651360887491405.9, 568776867991306.8, 558629028848456.6, 793282851057000.5, 632605240901208.5, 931344165453961.6, 698538625961717.8, 1394249820239149.5, 948947859314016.4, 680442011704260.4, 609170554661509.8, 582366963411456.4, 552929041089511.3, 778204198358476.2, 1634499850043600.5, 1634499850043600.5, 663420909441690.0, 775979708131642.9, 550146716274486.1, 655313675308487.4, 680442011704260.4, 616806860217241.2, 552363046534753.56, 573038021799301.8, 1015492628748506.6, 1015492628748506.6, 888873198140639.8, 1504957523854084.2, 537475587059813.4, 663420909441690.0, 1493584265744027.0, 1482278227133653.0, 801514795904162.0, 554421032746545.0, 801514795904162.0, 772544597721260.6, 645144351395531.0, 629055770082210.2, 576659829785595.0, 590069474367216.5, 550964599705528.56, 544367245481327.9, 544367245481327.9, 610394682419472.6, 732795651649964.4, 578999349610344.0, 550964599705528.56, 986992689953775.2, 564784592182033.1, 639905841038248.2, 665039917121576.2, 795586317268221.0, 898508315404931.5, 538054237228806.8, 538054237228806.8, 581406088934775.1, 541403455728125.0, 717710752214062.2, 541403455728125.0, 584867247563696.4, 557606674559652.5, 663420909441690.0, 857895981113251.6, 823465812592869.4, 541403455728125.0, 541706197001600.25, 842382223510555.5, 864496654745997.5, 632605240901208.5, 698538625961717.8, 548856383116493.75, 574387529460523.5, 848822132815812.1, 643656970356285.4, 861903609925366.6, 581406088934775.1, 888873198140639.8, 1290264066592255.5, 543057617892007.8, 648989025541379.2, 606091620340274.0, 607289422770109.4, 591705241229304.1, 689355879833628.5, 748485526582991.5, 805154377172306.5, 548369364546121.2, 823465812592869.4, 707990250088529.4, 1116567243298452.1, 1064819985029231.1, 539099205357487.7, 609170554661509.8, 537849766371041.8, 719645663831487.4, 549633372375985.7, 547172576215937.8, 538615506195660.4, 545388700640599.9, 537567725708261.75, 1076606633333121.5, 538199026533513.75, 622158486943255.5, 868545177729663.6, 604251382620431.2, 961002533656451.2, 539426358729905.6, 562165337003391.75, 584867247563696.4, 1671241184861304.5, 537731302394470.2, 538444391562827.44, 537111758053920.3, 537352904545156.8, 882029971837301.0, 934200463555874.1, 968585174456275.2, 597258134374650.8, 552929041089511.3, 543057617892007.8, 829704063399084.4, 924097622152540.2, 855329261620748.9, 557606674559652.5, 543413009821739.1, 717710752214062.2, 829704063399084.4, 592771417018497.6, 550964599705528.56, 888873198140639.8, 544980658054612.3, 636221931219887.4, 916918298350798.9, 781680202940415.2, 600135410196845.1, 600135410196845.1, 625573518762892.0, 983952114554969.1, 632605240901208.5, 606091620340274.0, 924097622152540.2, 1107774651504381.1, 538901765396527.3, 643656970356285.4, 772544597721260.6, 698538625961717.8, 698538625961717.8, 537124920717986.6, 607289422770109.4, 1306535174112763.0, 1300360154208382.2, 544367245481327.9, 555361598692244.3, 540953619841051.1, 902761309246359.0, 775979708131642.9, 1246721575881892.8, 537352904545156.8, 543413009821739.1, 552363046534753.56, 561061194371481.9, 1516398001463820.8, 570044587309425.4, 722671832526349.0, 1189327879639516.5, 934200463555874.1, 629055770082210.2, 652900919186908.0, 582366963411456.4, 753849923893360.4, 552208252573374.5, 1622387177437061.8, 574387529460523.5, 575269427952819.9, 673468679909757.4, 857895981113251.6, 1107774651504381.1, 660926364977005.6, 805154377172306.5, 548369364546121.2, 770346432822553.2, 540953619841051.1, 601011700745940.5, 594448078052137.5, 547633269458181.8, 578999349610344.0, 564034320330379.0, 559300324715727.25, 612316708482425.5, 647475319174005.4, 2057597269284147.0, 574387529460523.5, 714725477690752.5, 615530081803021.2, 555361598692244.3, 537475587059813.4, 625573518762892.0, 537567725708261.75, 2516765234524946.5, 539099205357487.7, 1351848884784227.0, 537352904545156.8, 1031666202843357.8, 689355879833628.5, 764780377013141.5, 544980658054612.3, 832165481579074.2, 842382223510555.5, 577568053606017.9, 956422386442607.8, 553828712863659.0, 547172576215937.8, 543985528223469.5, 643656970356285.4, 579933898758896.8, 938657928255064.0, 538901765396527.3, 895783643943658.5, 558629028848456.6, 570873835145464.0, 795586317268221.0, 590069474367216.5, 594448078052137.5, 570873835145464.0, 562165337003391.75, 537165814889539.2, 931344165453961.6, 3844478268365668.0, 553828712863659.0, 647475319174005.4, 1064819985029231.1, 1076606633333121.5, 4146276440728619.0, 656880032332117.0, 737958390461293.2, 613567161568516.1, 693913643147833.0, 630437849808942.4, 659333682625248.8, 842382223510555.5, 1193000262913405.8, 592771417018497.6, 604251382620431.2, 647475319174005.4, 660926364977005.6, 547633269458181.8, 1134354085385634.8, 592771417018497.6, 592771417018497.6, 717710752214062.2, 2057597269284147.0, 1320753987939679.5, 547172576215937.8, 613567161568516.1, 991736413853827.9, 542525993661829.5, 898508315404931.5, 819703548810067.6, 546477375299549.6, 540953619841051.1, 567973945483395.4, 537731302394470.2, 805154377172306.5, 931344165453961.6, 931344165453961.6, 727700132338313.0, 724633069471902.2, 1125427054592204.0, 630437849808942.4, 868545177729663.6, 1120029023947314.6, 539099205357487.7, 590069474367216.5, 1064819985029231.1, 669220688765826.0, 842382223510555.5, 582366963411456.4, 550964599705528.56, 868545177729663.6, 739998603391230.9, 643656970356285.4, 622158486943255.5, 712816891401455.5, 655313675308487.4, 565970523157047.5, 537287091224835.9, 543985528223469.5, 759281540703411.9, 570873835145464.0, 537124920717986.6, 912583516166268.0, 724633069471902.2, 537205302881731.7, 538615506195660.4, 573038021799301.8, 547172576215937.8, 673468679909757.4, 1170734403556167.0, 1202424155532729.0, 722671832526349.0, 601280561970423.2, 553828712863659.0, 558629028848456.6, 941540551685105.5, 676085906889097.2, 734809539251774.2, 604251382620431.2, 671797021573614.8, 629055770082210.2, 637656661602876.2, 581406088934775.1, 537111758053920.3, 795586317268221.0, 671797021573614.8, 743188348772302.0, 600135410196845.1, 888873198140639.8, 565970523157047.5, 807510494039783.4, 544980658054612.3, 652900919186908.0, 2015007837994247.0, 540677203895703.6, 632605240901208.5, 781680202940415.2, 875253965033642.1, 594448078052137.5, 761427054945862.5, 606091620340274.0, 934200463555874.1, 805154377172306.5, 539426358729905.6, 546043007385435.06, 537731302394470.2, 931344165453961.6, 787447917248866.8, 783931018495379.1, 581406088934775.1, 549633372375985.7, 727700132338313.0, 979249284826461.8, 1010626222333795.5, 581406088934775.1, 539426358729905.6, 552363046534753.56, 714725477690752.5, 983952114554969.1, 1945369842504689.2, 548369364546121.2, 823465812592869.4, 693913643147833.0, 848822132815812.1, 612316708482425.5, 647475319174005.4, 724633069471902.2, 647475319174005.4, 553828712863659.0, 1048108654936933.9, 750578390169185.9, 968585174456275.2, 855329261620748.9, 655313675308487.4, 647475319174005.4, 606091620340274.0, 986992689953775.2, 544367245481327.9, 663420909441690.0, 541403455728125.0, 615530081803021.2, 764780377013141.5, 542196927060226.4, 553828712863659.0, 626929273161496.4, 597258134374650.8, 979249284826461.8, 968585174456275.2, 544980658054612.3, 641366896749363.0, 2294958266781700.0, 1811135314001608.2, 609170554661509.8, 538901765396527.3, 801514795904162.0, 567973945483395.4, 698538625961717.8, 612316708482425.5, 891571544273783.6, 712816891401455.5, 719645663831487.4, 537392122385860.94, 540953619841051.1, 659333682625248.8, 555361598692244.3, 606091620340274.0, 567973945483395.4, 748485526582991.5, 703230828275283.0, 598376960820101.1, 743188348772302.0, 575269427952819.9, 700368236266630.1, 603079905518719.9, 591705241229304.1, 542525993661829.5, 556961704020510.94, 589029623906152.0, 540268262180183.75, 2751747224205561.0, 1125427054592204.0, 542196927060226.4, 615530081803021.2, 698538625961717.8, 842382223510555.5, 1099049279209989.5, 572182448635134.2, 665039917121576.2, 544980658054612.3, 1155976887432915.0, 551504268932158.8, 676085906889097.2, 625200192150154.0, 739998603391230.9, 877899660510530.0, 555361598692244.3, 855329261620748.9, 770346432822553.2, 695716928124617.8, 976235034755778.8, 1143348335678748.0, 705086763908323.6, 732795651649964.4, 1448763428300618.5, 842382223510555.5, 601280561970423.2, 574387529460523.5, 703230828275283.0, 861903609925366.6, 639905841038248.2, 537111758053920.3, 548369364546121.2, 567973945483395.4, 549633372375985.7, 537287091224835.9, 560363573176084.06, 693913643147833.0, 770346432822553.2, 722671832526349.0, 558629028848456.6, 677783890553367.0, 559836151830329.9, 1297324269876080.0, 712816891401455.5, 722671832526349.0, 750578390169185.9, 703230828275283.0, 549633372375985.7, 1007506670950600.0, 561061194371481.9, 665039917121576.2, 553828712863659.0, 838497277213098.9, 671797021573614.8, 581406088934775.1, 591705241229304.1, 772544597721260.6, 1076606633333121.5, 557606674559652.5, 537567725708261.75, 651360887491405.9, 857895981113251.6, 639905841038248.2, 698538625961717.8, 971573099198830.1, 623829026851021.6, 592771417018497.6, 832165481579074.2, 542525993661829.5, 575269427952819.9, 612316708482425.5, 1128915160569191.8, 540953619841051.1, 618810674623298.5, 976235034755778.8, 540339285291875.06, 764780377013141.5, 909806194048738.9, 552363046534753.56, 861903609925366.6, 622158486943255.5, 805154377172306.5, 1002681158707441.4, 5641180345297340.0, 636221931219887.4, 909806194048738.9, 539426358729905.6, 623487916013730.9, 766952216583720.6, 547633269458181.8, 567973945483395.4, 610394682419472.6, 805154377172306.5, 698538625961717.8, 2909764292931447.5, 902761309246359.0, 537124920717986.6, 604251382620431.2, 1111210106825114.9, 2129924044760925.0, 739998603391230.9, 905512306035759.0, 902761309246359.0, 1399625559108155.0, 545388700640599.9, 620113778365646.0, 793282851057000.5, 868545177729663.6, 1023545806046091.5, 759281540703411.9, 606091620340274.0, 556961704020510.94, 648989025541379.2, 813573411675085.4, 543057617892007.8, 537165814889539.2, 1134354085385634.8, 671797021573614.8, 823465812592869.4, 647475319174005.4, 1081800193120249.9, 600135410196845.1, 609170554661509.8, 647475319174005.4, 1085156672456599.2, 706515430003269.2, 537352904545156.8, 669220688765826.0, 554421032746545.0, 748485526582991.5, 632605240901208.5, 648989025541379.2, 541706197001600.25, 1170734403556167.0, 548369364546121.2, 538126890535637.94, 660926364977005.6, 739998603391230.9, 999587932652373.2, 717710752214062.2, 554421032746545.0, 537352904545156.8, 743188348772302.0, 540953619841051.1, 548856383116493.75, 875253965033642.1, 555980243903258.56, 1002681158707441.4, 538615506195660.4, 745254887030368.8, 669220688765826.0, 587434751215616.2, 1671241184861304.5, 544367245481327.9, 625573518762892.0, 537352904545156.8, 805154377172306.5, 671797021573614.8, 537124920717986.6, 591705241229304.1, 555980243903258.56, 825900905444731.8, 537475587059813.4, 902761309246359.0, 594448078052137.5, 717710752214062.2, 600135410196845.1, 564034320330379.0, 719645663831487.4, 829704063399084.4, 676085906889097.2, 546043007385435.06, 770346432822553.2, 539099205357487.7, 565970523157047.5, 600135410196845.1, 829704063399084.4, 543413009821739.1, 540018171562965.25, 703230828275283.0, 564034320330379.0, 537475587059813.4, 603079905518719.9, 829704063399084.4, 539426358729905.6, 604251382620431.2, 592771417018497.6, 689355879833628.5, 805154377172306.5, 538901765396527.3, 1031666202843357.8, 570873835145464.0, 938657928255064.0, 667575355757811.4, 630437849808942.4, 729687694611997.8, 2144591058355317.8, 977708670140962.2, 537111758053920.3, 999587932652373.2, 559300324715727.25, 622158486943255.5, 570044587309425.4, 537205302881731.7, 1471039408022959.5, 1064819985029231.1, 542525993661829.5, 554421032746545.0, 817294781286335.1, 537731302394470.2, 561061194371481.9, 1551122751291110.2, 538199026533513.75, 537567725708261.75, 677783890553367.0, 548856383116493.75, 539099205357487.7, 727700132338313.0, 703230828275283.0, 537731302394470.2, 613567161568516.1, 645144351395531.0, 558629028848456.6, 537567725708261.75, 836009533704980.5, 652900919186908.0, 848822132815812.1, 575269427952819.9, 682166320696659.5, 542525993661829.5, 589029623906152.0, 615530081803021.2, 590069474367216.5, 651360887491405.9, 748485526582991.5, 539650124018995.94, 1174354136173800.0, 703230828275283.0, 902761309246359.0, 537475587059813.4, 552929041089511.3, 4324647855193612.0, 753849923893360.4, 722671832526349.0, 549633372375985.7, 775979708131642.9, 811190969479480.2, 544367245481327.9, 1048108654936933.9, 801514795904162.0, 570044587309425.4, 556961704020510.94, 875253965033642.1, 871164547878423.2, 678255556859218.5, 931344165453961.6, 537111758053920.3, 770346432822553.2, 999587932652373.2, 888873198140639.8, 615530081803021.2, 941540551685105.5, 912583516166268.0, 538054237228806.8, 544367245481327.9, 647475319174005.4, 770346432822553.2, 2100791676071171.0, 717710752214062.2, 1217722240012143.0, 547172576215937.8, 543057617892007.8, 537109936948495.06, 552363046534753.56, 655313675308487.4, 1085156672456599.2, 895783643943658.5, 829704063399084.4, 1064819985029231.1, 677783890553367.0, 1170734403556167.0, 671797021573614.8, 537205302881731.7, 706078415023269.4, 851362526980186.5, 1146889092311995.5, 540953619841051.1, 578999349610344.0, 543057617892007.8, 680442011704260.4, 574387529460523.5, 991736413853827.9, 778204198358476.2, 888873198140639.8, 902761309246359.0, 537287091224835.9, 567973945483395.4, 877899660510530.0, 799185004364812.6, 542196927060226.4, 717710752214062.2, 1183643589793761.5, 562165337003391.75, 537567725708261.75, 823465812592869.4, 581406088934775.1, 552929041089511.3, 543057617892007.8, 759281540703411.9, 548369364546121.2, 1137868516690754.8, 825900905444731.8, 597258134374650.8, 556961704020510.94, 555980243903258.56, 651360887491405.9, 542196927060226.4, 753849923893360.4, 552363046534753.56, 562165337003391.75, 1221473599270416.0, 667575355757811.4, 560363573176084.06, 639905841038248.2, 581406088934775.1, 1015492628748506.6, 1048108654936933.9, 1310523461324190.0, 684865336019103.4, 680442011704260.4, 552929041089511.3, 2388405127822192.5, 775979708131642.9, 891571544273783.6, 1179997531848002.5, 953487112356309.0, 576659829785595.0, 600135410196845.1, 1090391126415279.0, 712816891401455.5, 836009533704980.5, 573038021799301.8, 574387529460523.5, 564034320330379.0, 727700132338313.0, 615530081803021.2, 549633372375985.7, 558629028848456.6, 555980243903258.56, 819703548810067.6, 589029623906152.0, 561061194371481.9, 632605240901208.5, 1161538494764014.0, 761427054945862.5, 919721945796456.6, 9371666658749268.0, 4392646257362712.5, 622158486943255.5, 829704063399084.4, 551504268932158.8, 1026718008085544.1, 693913643147833.0, 562165337003391.75, 755969112807683.8, 538199026533513.75, 570044587309425.4, 558629028848456.6, 578999349610344.0, 748485526582991.5, 643656970356285.4, 541403455728125.0, 545388700640599.9, 823465812592869.4, 926927594926324.9, 772544597721260.6, 895783643943658.5, 603079905518719.9, 584867247563696.4, 648989025541379.2, 722671832526349.0, 570873835145464.0, 606091620340274.0, 560363573176084.06, 540953619841051.1, 645144351395531.0, 618810674623298.5, 1146889092311995.5, 1208190233721587.8, 888873198140639.8, 550146716274486.1, 540677203895703.6, 537124920717986.6, 789725058131959.8, 577568053606017.9, 538199026533513.75, 877899660510530.0, 805154377172306.5, 575269427952819.9, 1007506670950600.0, 537475587059813.4, 1270273549859042.0, 799185004364812.6, 946038910555846.2, 700368236266630.1, 680442011704260.4, 793282851057000.5, 1059708213585207.1, 537205302881731.7, 636221931219887.4, 1798081568399539.5, 537352904545156.8, 555980243903258.56, 740564967179337.8, 550964599705528.56, 548369364546121.2, 871164547878423.2, 861903609925366.6, 764780377013141.5, 606091620340274.0, 554421032746545.0, 2341379209553383.5, 603079905518719.9, 693913643147833.0, 586421226082679.2, 551504268932158.8, 552929041089511.3, 648989025541379.2, 1189327879639516.5, 537475587059813.4, 686615970339632.5, 836009533704980.5, 665039917121576.2, 600135410196845.1, 565970523157047.5, 1211915267651732.0, 961002533656451.2, 667575355757811.4, 549633372375985.7, 781680202940415.2, 732795651649964.4, 552363046534753.56, 578999349610344.0, 919721945796456.6, 537352904545156.8, 732795651649964.4, 573038021799301.8, 623487916013730.9, 3739886133042293.0, 538054237228806.8, 1772175735694449.5, 570044587309425.4, 639905841038248.2, 844896292346802.4, 612316708482425.5, 623487916013730.9, 3018133882900996.0, 537287091224835.9, 567973945483395.4, 2909764292931447.5, 537124920717986.6, 912583516166268.0, 875253965033642.1, 648989025541379.2, 590069474367216.5, 902761309246359.0, 961002533656451.2, 583880047758887.2, 606091620340274.0, 540677203895703.6, 572182448635134.2, 838497277213098.9, 1341416699669697.5, 707990250088529.4, 549622516671327.0, 671797021573614.8, 651360887491405.9, 1031666202843357.8, 632605240901208.5, 764780377013141.5, 583880047758887.2, 564034320330379.0, 671797021573614.8, 1007506670950600.0, 590069474367216.5, 544367245481327.9, 652900919186908.0, 727700132338313.0, 669220688765826.0, 556961704020510.94, 948947859314016.4, 537731302394470.2, 583880047758887.2, 656880032332117.0, 842382223510555.5, 610394682419472.6, 891571544273783.6, 976235034755778.8, 778204198358476.2, 562165337003391.75, 543985528223469.5, 538054237228806.8, 781680202940415.2, 540953619841051.1, 999587932652373.2, 537475587059813.4, 613567161568516.1, 643656970356285.4, 583880047758887.2, 799185004364812.6, 578999349610344.0, 583880047758887.2, 916918298350798.9, 737958390461293.2, 577568053606017.9, 1085156672456599.2, 698538625961717.8, 592771417018497.6, 5281035647211778.0, 537731302394470.2, 538615506195660.4, 963964133070878.0, 615530081803021.2, 1116567243298452.1, 609170554661509.8, 554421032746545.0, 537287091224835.9, 537109936948495.06, 537731302394470.2, 764780377013141.5, 576659829785595.0, 1170734403556167.0, 924097622152540.2, 946038910555846.2, 578999349610344.0, 659333682625248.8, 549633372375985.7, 1174354136173800.0, 576659829785595.0, 606091620340274.0, 864496654745997.5, 606091620340274.0, 1007506670950600.0, 691132839482284.9, 643656970356285.4, 564034320330379.0, 684865336019103.4, 587434751215616.2, 793282851057000.5, 555361598692244.3, 1090391126415279.0, 537352904545156.8, 961002533656451.2, 544980658054612.3, 540018171562965.25, 655313675308487.4, 583880047758887.2, 1383548757125897.2, 581406088934775.1, 540018171562965.25, 613567161568516.1, 1090391126415279.0, 745254887030368.8, 655313675308487.4, 753849923893360.4, 737958390461293.2, 916918298350798.9, 606091620340274.0, 829704063399084.4, 543413009821739.1, 667575355757811.4, 737958390461293.2, 761427054945862.5, 537849766371041.8, 609170554661509.8, 551504268932158.8, 895783643943658.5, 620113778365646.0, 1539480615182332.5, 539426358729905.6, 1696071505571507.5, 618810674623298.5, 554421032746545.0, 546477375299549.6, 938657928255064.0, 538444391562827.44, 639905841038248.2, 643656970356285.4, 543057617892007.8, 591705241229304.1, 1174354136173800.0, 916918298350798.9, 609170554661509.8, 1658926853755722.8, 946038910555846.2, 805154377172306.5, 568776867991306.8, 755969112807683.8, 775979708131642.9, 537731302394470.2, 544980658054612.3, 539650124018995.94, 861903609925366.6, 1107774651504381.1, 946038910555846.2, 1798081568399539.5, 663420909441690.0, 864496654745997.5, 813573411675085.4, 537567725708261.75, 538199026533513.75, 538615506195660.4, 636221931219887.4, 622158486943255.5, 568776867991306.8, 550146716274486.1, 805154377172306.5, 888873198140639.8, 537287091224835.9, 902761309246359.0, 698538625961717.8, 698538625961717.8, 748485526582991.5, 1945369842504689.2, 655313675308487.4, 623487916013730.9, 568776867991306.8, 924097622152540.2, 622158486943255.5, 542196927060226.4, 613567161568516.1, 691132839482284.9, 539650124018995.94, 625573518762892.0, 680442011704260.4, 698538625961717.8, 2615858533538598.5, 669220688765826.0, 717710752214062.2, 538199026533513.75, 968585174456275.2, 651753141395628.2, 707990250088529.4, 1048108654936933.9, 1007506670950600.0, 991736413853827.9, 3844478268365668.0, 577568053606017.9, 770346432822553.2, 554421032746545.0, 555980243903258.56, 597258134374650.8, 787447917248866.8, 537205302881731.7, 607289422770109.4, 1290264066592255.5, 1539480615182332.5, 583880047758887.2, 805154377172306.5, 559300324715727.25, 1917985180806630.8, 1183643589793761.5, 781680202940415.2, 537731302394470.2, 594448078052137.5, 1120029023947314.6, 540677203895703.6, 540268262180183.75, 793282851057000.5, 805154377172306.5, 961002533656451.2, 629055770082210.2, 625573518762892.0, 583880047758887.2, 576659829785595.0, 1917985180806630.8, 727700132338313.0, 562889283526917.4, 2341379209553383.5, 542525993661829.5, 836009533704980.5, 676085906889097.2, 823465812592869.4, 581406088934775.1, 770346432822553.2, 924097622152540.2, 542196927060226.4, 916918298350798.9, 4813341155816910.0, 639905841038248.2, 639905841038248.2, 1217722240012143.0, 576199992160605.8, 1048108654936933.9, 594448078052137.5, 562165337003391.75, 537352904545156.8, 1051359832960771.8, 1107774651504381.1, 594448078052137.5, 817294781286335.1, 538054237228806.8, 938657928255064.0, 759281540703411.9, 540953619841051.1, 565970523157047.5, 805154377172306.5, 753849923893360.4, 616806860217241.2, 667575355757811.4, 583880047758887.2, 1048108654936933.9, 537111758053920.3, 1217722240012143.0, 541403455728125.0, 538615506195660.4, 609170554661509.8, 591705241229304.1, 606091620340274.0, 753849923893360.4, 555980243903258.56, 864496654745997.5, 1125427054592204.0, 761427054945862.5, 3929361927618619.5, 902761309246359.0, 707990250088529.4, 615530081803021.2, 647475319174005.4, 540677203895703.6, 712816891401455.5, 665039917121576.2, 626929273161496.4, 562165337003391.75, 691132839482284.9, 764780377013141.5, 562165337003391.75, 888873198140639.8, 1211915267651732.0, 573038021799301.8, 1064819985029231.1, 931344165453961.6, 606091620340274.0, 643656970356285.4, 543413009821739.1, 538054237228806.8, 643656970356285.4, 938657928255064.0, 934200463555874.1, 564034320330379.0, 684865336019103.4, 540273718156098.9, 643656970356285.4, 1327010796187163.5, 682166320696659.5, 613567161568516.1, 548369364546121.2, 537567725708261.75, 568776867991306.8, 610394682419472.6, 825900905444731.8, 793282851057000.5, 1007506670950600.0, 801514795904162.0, 1143348335678748.0, 671797021573614.8, 1489148447954422.0, 629055770082210.2, 2420091837499799.0, 647475319174005.4, 600135410196845.1, 557606674559652.5, 931344165453961.6, 615530081803021.2, 671797021573614.8, 537352904545156.8, 582366963411456.4, 817294781286335.1, 868545177729663.6, 572182448635134.2, 805154377172306.5, 629055770082210.2, 615530081803021.2, 772544597721260.6, 629055770082210.2, 647475319174005.4, 615530081803021.2, 693913643147833.0, 2372662602232910.0, 609170554661509.8, 590069474367216.5, 709872511049697.6, 1031666202843357.8, 909806194048738.9, 560363573176084.06, 597258134374650.8, 645144351395531.0, 564784592182033.1, 538402351251939.5, 597258134374650.8, 703230828275283.0, 813573411675085.4, 759281540703411.9, 560363573176084.06, 557606674559652.5, 709872511049697.6, 1170734403556167.0, 857895981113251.6, 766952216583720.6, 639905841038248.2, 732795651649964.4, 587434751215616.2, 745254887030368.8, 576180811874137.8, 855329261620748.9, 1864022491406673.8, 632605240901208.5, 595540579169459.4, 956422386442607.8, 671797021573614.8, 537124920717986.6, 573038021799301.8, 549633372375985.7, 931344165453961.6, 655313675308487.4, 556961704020510.94, 700368236266630.1, 551504268932158.8, 595540579169459.4, 574387529460523.5, 909806194048738.9, 555361598692244.3, 544980658054612.3, 1217722240012143.0, 805154377172306.5, 799185004364812.6, 562165337003391.75, 548856383116493.75, 707990250088529.4, 1007506670950600.0, 565970523157047.5, 597258134374650.8, 1076606633333121.5, 589029623906152.0, 548856383116493.75, 546043007385435.06, 801514795904162.0, 705086763908323.6, 586421226082679.2, 550964599705528.56, 676085906889097.2, 682166320696659.5, 616806860217241.2, 775979708131642.9, 540953619841051.1, 709872511049697.6, 592771417018497.6, 570044587309425.4, 583880047758887.2, 578999349610344.0, 817294781286335.1, 781680202940415.2, 1102458409202596.0, 698538625961717.8, 601280561970423.2, 537567725708261.75, 547172576215937.8, 595540579169459.4, 602782431109046.4, 597258134374650.8, 554421032746545.0, 648989025541379.2, 604251382620431.2, 1155976887432915.0, 564034320330379.0, 550146716274486.1, 1010626222333795.5, 645144351395531.0, 2174126744043148.2, 616806860217241.2, 663420909441690.0, 610394682419472.6, 948947859314016.4, 539099205357487.7, 698538625961717.8, 864496654745997.5, 645144351395531.0, 842382223510555.5, 861903609925366.6, 655313675308487.4, 601280561970423.2, 538199026533513.75, 968585174456275.2, 759281540703411.9, 550964599705528.56, 629055770082210.2, 1034864730210939.2, 979249284826461.8, 601280561970423.2, 909806194048738.9, 612316708482425.5, 544980658054612.3, 541706197001600.25, 537165814889539.2, 4633057906286657.0, 2.0969334833932936e+16, 1125427054592204.0, 677783890553367.0, 864496654745997.5, 946038910555846.2, 582366963411456.4, 555361598692244.3, 541403455728125.0, 537111758053920.3, 576659829785595.0, 2029137095591200.8, 663420909441690.0, 677783890553367.0, 961002533656451.2, 544367245481327.9, 709872511049697.6, 755969112807683.8, 931344165453961.6, 684865336019103.4, 543413009821739.1, 604251382620431.2, 594702772476704.0, 1102458409202596.0, 667575355757811.4, 946038910555846.2, 583880047758887.2, 615530081803021.2, 764780377013141.5, 689355879833628.5, 612316708482425.5, 682166320696659.5, 781680202940415.2, 539099205357487.7, 565970523157047.5, 829704063399084.4, 1023545806046091.5, 538199026533513.75, 805154377172306.5, 552929041089511.3, 641366896749363.0, 543985528223469.5, 931344165453961.6, 609170554661509.8, 622158486943255.5, 676085906889097.2, 770346432822553.2, 1785095042297156.2, 898508315404931.5, 793282851057000.5, 546043007385435.06, 545388700640599.9, 575269427952819.9, 572182448635134.2, 550964599705528.56, 609170554661509.8, 594448078052137.5, 540018171562965.25, 594448078052137.5, 1504957523854084.2, 1023545806046091.5, 629055770082210.2, 663420909441690.0, 1179997531848002.5, 1031666202843357.8, 609170554661509.8, 705086763908323.6, 2015007837994247.0, 538015994014821.1, 543413009821739.1, 636221931219887.4, 537205302881731.7, 938657928255064.0, 868545177729663.6, 601280561970423.2, 748485526582991.5, 1116567243298452.1, 655313675308487.4, 1527905698573236.5, 829704063399084.4, 544980658054612.3, 905512306035759.0, 968585174456275.2, 652900919186908.0, 562165337003391.75, 902761309246359.0, 801514795904162.0, 561061194371481.9, 709872511049697.6, 538054237228806.8, 559300324715727.25, 539099205357487.7, 620113778365646.0, 884701992642315.9, 775979708131642.9, 578999349610344.0, 660926364977005.6, 1146889092311995.5, 781680202940415.2, 2666312646291108.5, 1622387177437061.8, 537475587059813.4, 805154377172306.5, 734809539251774.2, 606091620340274.0, 551504268932158.8, 1026718008085544.1, 537567725708261.75, 573038021799301.8, 823465812592869.4, 651360887491405.9, 1634499850043600.5, 558629028848456.6, 556961704020510.94, 552363046534753.56, 603079905518719.9, 755969112807683.8, 537567725708261.75, 737958390461293.2, 615530081803021.2, 795586317268221.0, 745254887030368.8, 884701992642315.9, 781680202940415.2, 629055770082210.2, 647475319174005.4, 953487112356309.0, 764780377013141.5, 770346432822553.2, 652900919186908.0, 671797021573614.8, 582366963411456.4, 590069474367216.5, 842382223510555.5, 1671241184861304.5, 562889283526917.4, 677783890553367.0, 829704063399084.4, 1415853604964694.0, 590069474367216.5, 1877412334507142.0, 577568053606017.9, 604251382620431.2, 618810674623298.5, 793282851057000.5, 3377268882311984.0, 789725058131959.8, 655313675308487.4, 592771417018497.6, 615530081803021.2, 902761309246359.0, 851362526980186.5, 766952216583720.6, 565970523157047.5, 539099205357487.7, 538901765396527.3, 559300324715727.25, 540953619841051.1, 552363046534753.56, 615530081803021.2, 597258134374650.8, 712816891401455.5, 558629028848456.6, 855329261620748.9, 576659829785595.0, 680442011704260.4, 598376960820101.1, 537849766371041.8, 636221931219887.4, 836009533704980.5, 537111758053920.3, 537205302881731.7, 877899660510530.0, 550964599705528.56, 565970523157047.5, 572182448635134.2, 813573411675085.4, 718697590716545.2, 895783643943658.5, 1598363490723022.5, 540677203895703.6, 1260379120741956.2, 1598363490723022.5, 538901765396527.3, 562889283526917.4, 811190969479480.2, 655313675308487.4, 576659829785595.0, 651360887491405.9, 656880032332117.0, 579933898758896.8, 539426358729905.6, 712816891401455.5, 703230828275283.0, 541403455728125.0, 590069474367216.5, 578999349610344.0, 632605240901208.5, 544980658054612.3, 748485526582991.5, 651360887491405.9, 999587932652373.2, 819703548810067.6, 759281540703411.9, 871164547878423.2, 537124920717986.6, 537205302881731.7, 882029971837301.0, 1015492628748506.6, 565970523157047.5, 542525993661829.5, 641366896749363.0, 855329261620748.9, 663420909441690.0, 991736413853827.9, 574387529460523.5, 759281540703411.9, 603079905518719.9, 625573518762892.0, 592771417018497.6, 755969112807683.8, 1064819985029231.1, 703230828275283.0, 953487112356309.0, 537165814889539.2, 540018171562965.25, 603079905518719.9, 693913643147833.0, 603079905518719.9, 538444391562827.44, 4982826433660012.0, 564034320330379.0, 622158486943255.5, 2071928185380140.5, 612316708482425.5, 924097622152540.2, 825900905444731.8, 548856383116493.75, 700368236266630.1, 1056430710233242.8, 539650124018995.94, 537352904545156.8, 541706197001600.25, 595540579169459.4, 2115324250666207.5, 562165337003391.75, 544980658054612.3, 598376960820101.1, 566747120336829.8, 543985528223469.5, 871164547878423.2, 583880047758887.2, 562889283526917.4, 727700132338313.0, 4146276440728619.0, 643656970356285.4, 1018638505459830.2, 648989025541379.2, 537849766371041.8, 609170554661509.8, 538901765396527.3, 1107774651504381.1, 610394682419472.6, 983952114554969.1, 1007506670950600.0, 1018638505459830.2, 539426358729905.6, 537475587059813.4, 1026718008085544.1, 540018171562965.25, 568776867991306.8, 547172576215937.8, 1018638505459830.2, 665039917121576.2, 540953619841051.1, 781680202940415.2, 693913643147833.0, 875253965033642.1, 693913643147833.0, 606091620340274.0, 607289422770109.4, 565171720253018.1, 549633372375985.7, 724633069471902.2, 562889283526917.4, 626929273161496.4, 572182448635134.2, 632605240901208.5, 543985528223469.5, 564034320330379.0, 882029971837301.0, 902761309246359.0, 586421226082679.2, 1007506670950600.0, 651360887491405.9, 877899660510530.0, 890249909741269.4, 539099205357487.7, 682166320696659.5, 567973945483395.4, 586421226082679.2, 587434751215616.2, 2856486961192361.0, 938657928255064.0, 568776867991306.8, 871164547878423.2, 553828712863659.0, 1482278227133653.0, 626929273161496.4, 1426756326576984.0, 598376960820101.1, 538199026533513.75, 538054237228806.8, 545388700640599.9, 855329261620748.9, 636221931219887.4, 589029623906152.0, 540018171562965.25, 557606674559652.5, 855329261620748.9, 573038021799301.8, 541706197001600.25, 607289422770109.4, 682166320696659.5, 591705241229304.1, 587434751215616.2, 1090391126415279.0, 5893067624221502.0, 537849766371041.8, 565970523157047.5, 547172576215937.8, 557606674559652.5, 829704063399084.4, 594448078052137.5, 2100791676071171.0, 983952114554969.1, 538901765396527.3, 547172576215937.8, 2325838342463143.0, 603079905518719.9, 645144351395531.0, 677783890553367.0, 634013645956069.0, 543057617892007.8, 537165814889539.2, 842382223510555.5, 537849766371041.8, 559300324715727.25, 700368236266630.1, 825900905444731.8, 961002533656451.2, 545388700640599.9, 1059708213585207.1, 895783643943658.5, 659333682625248.8, 546043007385435.06, 538054237228806.8, 912583516166268.0, 539650124018995.94, 1099049279209989.5, 848822132815812.1, 551504268932158.8, 584867247563696.4, 541706197001600.25, 829704063399084.4, 805154377172306.5, 632605240901208.5, 598376960820101.1, 583880047758887.2, 652900919186908.0, 548856383116493.75, 565970523157047.5, 618810674623298.5, 1002681158707441.4, 703230828275283.0, 665039917121576.2, 689355879833628.5, 732795651649964.4, 698538625961717.8, 919721945796456.6, 875253965033642.1, 543413009821739.1, 924097622152540.2, 2294958266781700.0, 550146716274486.1, 630437849808942.4, 540018171562965.25, 632605240901208.5, 537731302394470.2, 1007506670950600.0, 630437849808942.4, 655313675308487.4, 712816891401455.5, 703230828275283.0, 717710752214062.2, 546477375299549.6, 1850699867805887.5, 2325838342463143.0, 748485526582991.5, 639905841038248.2, 539426358729905.6, 632605240901208.5, 1023545806046091.5, 575269427952819.9, 636221931219887.4, 799185004364812.6, 632605240901208.5, 629055770082210.2, 567973945483395.4, 620113778365646.0, 615827892575156.9, 613567161568516.1, 537567725708261.75, 538199026533513.75, 632605240901208.5, 793282851057000.5, 575269427952819.9, 781680202940415.2, 537352904545156.8, 663420909441690.0, 1658926853755722.8, 745254887030368.8, 541706197001600.25, 576659829785595.0, 1231099150388781.5, 541403455728125.0, 562165337003391.75, 1296398192325084.0, 613567161568516.1, 537731302394470.2, 615530081803021.2, 882029971837301.0, 537475587059813.4, 537165814889539.2, 537352904545156.8, 766952216583720.6, 825900905444731.8, 781680202940415.2, 787447917248866.8, 3377268882311984.0, 558629028848456.6, 1337349436473885.5, 1068123813709323.8, 595540579169459.4, 537352904545156.8, 537111758053920.3, 541791788956715.94, 549633372375985.7, 572182448635134.2, 639905841038248.2, 789725058131959.8, 552363046534753.56, 836009533704980.5, 606091620340274.0, 680442011704260.4, 836009533704980.5, 684865336019103.4, 712816891401455.5, 909806194048738.9, 626929273161496.4, 540677203895703.6, 637656661602876.2, 548369364546121.2, 643656970356285.4, 705086763908323.6, 1031666202843357.8, 547172576215937.8, 600135410196845.1, 764780377013141.5, 1250551911124549.0, 1116567243298452.1, 703230828275283.0, 770346432822553.2, 632605240901208.5, 541403455728125.0, 2599174934953788.0, 715255419370299.1, 1276325887248765.8, 888873198140639.8, 680442011704260.4, 934200463555874.1, 540268262180183.75, 573038021799301.8, 712816891401455.5, 712816891401455.5, 875253965033642.1, 805154377172306.5, 1146889092311995.5, 607289422770109.4, 745254887030368.8, 1107774651504381.1, 544367245481327.9, 1143348335678748.0, 793282851057000.5, 537124920717986.6, 817294781286335.1, 905512306035759.0, 554421032746545.0, 537731302394470.2, 547633269458181.8, 577568053606017.9, 861903609925366.6, 968585174456275.2, 541403455728125.0, 1850699867805887.5, 606091620340274.0, 817294781286335.1, 1179997531848002.5, 542196927060226.4, 568382696288627.4, 552363046534753.56, 547633269458181.8, 1128915160569191.8, 1331051734054846.5, 1280235198475808.5, 1824256279103354.2, 722671832526349.0, 595540579169459.4, 739998603391230.9, 597258134374650.8, 537124920717986.6, 592771417018497.6, 552929041089511.3, 994803314580769.6, 600135410196845.1, 1174354136173800.0, 651360887491405.9, 553828712863659.0, 737958390461293.2, 727700132338313.0, 795586317268221.0, 698538625961717.8, 537849766371041.8, 660926364977005.6, 574387529460523.5, 1023545806046091.5, 537352904545156.8, 597258134374650.8, 1351848884784227.0, 542196927060226.4, 737958390461293.2, 1002681158707441.4, 542525993661829.5, 584867247563696.4, 601280561970423.2, 639905841038248.2, 963964133070878.0, 807510494039783.4, 568776867991306.8, 748485526582991.5, 793282851057000.5, 562889283526917.4, 544980658054612.3, 603079905518719.9, 544980658054612.3, 793282851057000.5, 546043007385435.06, 549633372375985.7, 772544597721260.6, 537111758053920.3, 652900919186908.0, 573038021799301.8, 1586452476615524.0, 686615970339632.5, 1155976887432915.0, 832165481579074.2, 537124920717986.6, 1081728590467247.0, 594448078052137.5, 836009533704980.5, 1031666202843357.8, 1562832106899566.8, 622158486943255.5, 660926364977005.6, 1031666202843357.8, 548856383116493.75, 811190969479480.2, 567973945483395.4, 647475319174005.4, 676085906889097.2, 799185004364812.6, 600135410196845.1, 603079905518719.9, 875253965033642.1, 1574608682007705.0, 537287091224835.9, 589029623906152.0, 722671832526349.0, 655313675308487.4, 541403455728125.0, 2484271890851178.5, 842382223510555.5, 1733821132884417.8, 560363573176084.06, 607289422770109.4, 607289422770109.4, 931344165453961.6, 1068123813709323.8, 1155976887432915.0, 895783643943658.5, 597258134374650.8, 545494543229008.6, 572182448635134.2, 586421226082679.2, 3950750891181054.5, 592771417018497.6, 660926364977005.6, 562889283526917.4, 1031666202843357.8, 817294781286335.1, 953487112356309.0, 1090391126415279.0, 537287091224835.9, 761427054945862.5, 557606674559652.5, 550146716274486.1, 551504268932158.8, 698538625961717.8, 663420909441690.0, 538444391562827.44, 994803314580769.6, 540018171562965.25, 576659829785595.0, 1746538780988081.2, 825900905444731.8, 630437849808942.4, 538199026533513.75, 601280561970423.2, 550964599705528.56, 946038910555846.2, 583880047758887.2, 537165814889539.2, 1260379120741956.2, 591705241229304.1, 546043007385435.06, 637656661602876.2, 539099205357487.7, 625573518762892.0, 538054237228806.8, 656880032332117.0, 823465812592869.4, 698538625961717.8, 665039917121576.2, 829704063399084.4, 538444391562827.44, 538901765396527.3, 587434751215616.2, 2372662602232910.0, 542196927060226.4, 548856383116493.75, 643656970356285.4, 651360887491405.9, 539426358729905.6, 562165337003391.75, 884701992642315.9, 2404214872911154.0, 1076606633333121.5, 1125427054592204.0, 743188348772302.0, 684865336019103.4, 844896292346802.4, 618810674623298.5, 542196927060226.4, 550964599705528.56, 2388405127822192.5, 562165337003391.75, 1039853819140306.6, 550146716274486.1, 680442011704260.4, 1007506670950600.0, 538615506195660.4, 868545177729663.6, 787447917248866.8, 565970523157047.5, 539650124018995.94, 1347755296260291.8, 560363573176084.06, 589029623906152.0, 570873835145464.0, 1189327879639516.5, 829704063399084.4, 636221931219887.4, 707990250088529.4, 1658926853755722.8, 912583516166268.0, 811190969479480.2, 540677203895703.6, 538444391562827.44, 1551122751291110.2, 680442011704260.4, 564784592182033.1, 561061194371481.9, 1383548757125897.2, 618810674623298.5, 8563910124650502.0, 554421032746545.0, 680442011704260.4, 924097622152540.2, 895783643943658.5, 645144351395531.0, 748485526582991.5, 557606674559652.5, 537287091224835.9, 748485526582991.5, 540677203895703.6, 616806860217241.2, 722671832526349.0, 537287091224835.9, 655313675308487.4, 938657928255064.0, 581406088934775.1, 567973945483395.4, 612316708482425.5, 540018171562965.25, 575269427952819.9, 1134354085385634.8, 552363046534753.56, 1746538780988081.2, 538901765396527.3, 615530081803021.2, 1128915160569191.8, 557606674559652.5, 764780377013141.5, 550146716274486.1, 705086763908323.6, 637656661602876.2, 600135410196845.1, 963964133070878.0, 2632609351623085.5, 783931018495379.1, 570044587309425.4, 541403455728125.0, 1708587495176129.8, 567973945483395.4, 819703548810067.6, 775979708131642.9, 539426358729905.6, 976235034755778.8, 968585174456275.2, 610394682419472.6, 603079905518719.9, 567973945483395.4, 659333682625248.8, 961002533656451.2, 589029623906152.0, 583880047758887.2, 882029971837301.0, 538199026533513.75, 537731302394470.2, 931344165453961.6, 549633372375985.7, 1102458409202596.0, 938657928255064.0, 838497277213098.9, 766952216583720.6, 573038021799301.8, 636221931219887.4, 652900919186908.0, 537567725708261.75, 538444391562827.44, 707990250088529.4, 2015007837994247.0, 556961704020510.94, 547172576215937.8, 594448078052137.5, 537165814889539.2, 707990250088529.4, 813573411675085.4, 722671832526349.0, 558629028848456.6, 689355879833628.5, 538054237228806.8, 564784592182033.1, 709872511049697.6, 540953619841051.1, 1023545806046091.5, 606091620340274.0, 550964599705528.56, 591705241229304.1, 888873198140639.8, 620113778365646.0, 537124920717986.6, 691132839482284.9, 1134354085385634.8, 639905841038248.2, 714725477690752.5, 538615506195660.4, 946038910555846.2, 548369364546121.2, 626929273161496.4, 842382223510555.5, 924097622152540.2, 673468679909757.4, 645144351395531.0, 737958390461293.2, 577568053606017.9, 1331051734054846.5, 537352904545156.8, 1125427054592204.0, 676085906889097.2, 737958390461293.2, 857895981113251.6, 550146716274486.1, 550146716274486.1, 750578390169185.9, 684865336019103.4, 594448078052137.5, 548856383116493.75, 743188348772302.0, 1183643589793761.5, 544980658054612.3, 591705241229304.1, 557606674559652.5, 589029623906152.0, 755969112807683.8, 539099205357487.7, 544367245481327.9, 643656970356285.4, 574387529460523.5, 775979708131642.9, 544980658054612.3, 2203931307729703.0, 655313675308487.4, 1300360154208382.2, 680442011704260.4, 544980658054612.3, 603079905518719.9, 1539480615182332.5, 549633372375985.7, 1128915160569191.8, 819703548810067.6, 570044587309425.4, 597258134374650.8, 793282851057000.5, 698538625961717.8, 598376960820101.1, 851362526980186.5, 691132839482284.9, 1437726267688958.5, 991736413853827.9, 905512306035759.0, 877899660510530.0, 547633269458181.8, 609170554661509.8, 623487916013730.9, 562165337003391.75, 555361598692244.3, 613567161568516.1, 565970523157047.5, 551504268932158.8, 979249284826461.8, 566747120336829.8, 538199026533513.75, 693913643147833.0, 548856383116493.75, 748485526582991.5, 953487112356309.0, 684865336019103.4, 540018171562965.25, 1018638505459830.2, 643656970356285.4, 547633269458181.8, 817294781286335.1, 1018638505459830.2, 542196927060226.4, 565970523157047.5, 1064819985029231.1, 1081800193120249.9, 1179997531848002.5, 953487112356309.0, 868545177729663.6, 4146276440728619.0, 537124920717986.6, 1598363490723022.5, 761427054945862.5, 877899660510530.0, 714725477690752.5, 630437849808942.4, 663420909441690.0, 554421032746545.0, 778204198358476.2, 732795651649964.4, 616806860217241.2, 745254887030368.8, 537205302881731.7, 700368236266630.1, 540268262180183.75, 548856383116493.75, 613567161568516.1, 813573411675085.4, 537165814889539.2, 537352904545156.8, 540953619841051.1, 581406088934775.1, 783931018495379.1, 1031666202843357.8, 643656970356285.4, 554421032746545.0, 783931018495379.1, 566747120336829.8, 562165337003391.75, 1610341724330201.0, 554421032746545.0, 2874178852272377.0, 537287091224835.9, 759281540703411.9, 764780377013141.5, 629055770082210.2, 811190969479480.2, 1.0803968508504828e+16, 590069474367216.5, 603079905518719.9, 567973945483395.4, 1125427054592204.0, 660926364977005.6, 667575355757811.4, 581406088934775.1, 805154377172306.5, 1208190233721587.8, 630437849808942.4, 1189327879639516.5, 1007506670950600.0, 537124920717986.6, 999587932652373.2, 693913643147833.0, 575269427952819.9, 931344165453961.6, 537731302394470.2, 632605240901208.5, 676085906889097.2, 693913643147833.0, 703230828275283.0, 556961704020510.94, 600135410196845.1, 606091620340274.0, 976235034755778.8, 541403455728125.0, 793282851057000.5, 540268262180183.75, 543985528223469.5, 540018171562965.25, 540018171562965.25, 663420909441690.0, 705086763908323.6, 562165337003391.75, 5255815172167558.0, 560363573176084.06, 882029971837301.0, 1746538780988081.2, 537111758053920.3, 717710752214062.2, 732795651649964.4, 931344165453961.6, 582366963411456.4, 540268262180183.75, 689355879833628.5, 1064819985029231.1, 564034320330379.0, 743188348772302.0, 636221931219887.4, 626929273161496.4, 759281540703411.9, 579933898758896.8, 570044587309425.4, 868545177729663.6, 811190969479480.2, 766952216583720.6, 1211915267651732.0, 737958390461293.2, 539099205357487.7, 1056430710233242.8, 1170734403556167.0, 787447917248866.8, 540268262180183.75, 1931643901905816.5, 709872511049697.6, 538615506195660.4, 539099205357487.7, 538615506195660.4, 643656970356285.4, 539099205357487.7, 539426358729905.6, 684865336019103.4, 855329261620748.9, 968585174456275.2, 931344165453961.6, 538199026533513.75, 1477868734672174.8, 609170554661509.8, 729687694611997.8, 875253965033642.1, 759281540703411.9, 811190969479480.2, 622158486943255.5, 836009533704980.5, 1120029023947314.6, 550964599705528.56, 566747120336829.8, 693913643147833.0, 538199026533513.75, 543057617892007.8, 551504268932158.8, 905512306035759.0, 610394682419472.6, 693913643147833.0, 604251382620431.2, 855329261620748.9, 745254887030368.8, 582366963411456.4, 924097622152540.2, 1018638505459830.2, 809322311282908.2, 1516398001463820.8, 1056430710233242.8, 632605240901208.5, 1270273549859042.0, 1099049279209989.5, 931344165453961.6, 568776867991306.8, 537205302881731.7, 693913643147833.0, 909806194048738.9, 750578390169185.9, 676085906889097.2, 574387529460523.5, 609170554661509.8, 544367245481327.9, 575269427952819.9, 544980658054612.3, 562889283526917.4, 555361598692244.3, 537205302881731.7, 540677203895703.6, 562165337003391.75, 811190969479480.2, 537124920717986.6, 538901765396527.3, 1002681158707441.4, 586421226082679.2, 578999349610344.0, 811190969479480.2, 538199026533513.75, 2203931307729703.0, 667575355757811.4, 1260379120741956.2, 625573518762892.0, 2356987296143308.0, 1217722240012143.0, 587434751215616.2, 625573518762892.0, 560363573176084.06, 1064819985029231.1, 537731302394470.2, 748485526582991.5, 595540579169459.4, 566747120336829.8, 587434751215616.2, 851362526980186.5, 761427054945862.5, 632605240901208.5, 912583516166268.0, 778204198358476.2, 938657928255064.0, 659333682625248.8, 1286328430037084.2, 554421032746545.0, 4369912903806670.5, 750578390169185.9, 567973945483395.4, 719645663831487.4, 953487112356309.0, 729687694611997.8, 574387529460523.5, 1120029023947314.6, 775979708131642.9, 562889283526917.4, 707990250088529.4, 554421032746545.0, 799185004364812.6, 550964599705528.56, 598376960820101.1, 564034320330379.0, 842382223510555.5, 538054237228806.8, 1059708213585207.1, 1516398001463820.8, 554421032746545.0, 561061194371481.9, 579933898758896.8, 844896292346802.4, 539650124018995.94, 789725058131959.8, 732795651649964.4, 544980658054612.3, 589029623906152.0, 931344165453961.6, 946038910555846.2, 1471039408022959.5, 1056430710233242.8, 941540551685105.5, 538615506195660.4, 1202424155532729.0, 540268262180183.75, 550964599705528.56, 555361598692244.3, 2071928185380140.5, 543413009821739.1, 545388700640599.9, 581406088934775.1, 550964599705528.56, 793282851057000.5, 1179997531848002.5, 795586317268221.0, 677783890553367.0, 677783890553367.0, 555980243903258.56, 537567725708261.75, 549633372375985.7, 538901765396527.3, 753849923893360.4, 586421226082679.2, 663420909441690.0, 1116567243298452.1, 625573518762892.0, 600135410196845.1, 544367245481327.9, 556961704020510.94, 5081153992849051.0, 537124920717986.6, 737958390461293.2, 598376960820101.1, 817294781286335.1, 956422386442607.8, 539208455056592.0, 680442011704260.4, 552363046534753.56, 946038910555846.2, 583880047758887.2, 1111210106825114.9, 855329261620748.9, 600135410196845.1, 948947859314016.4, 558629028848456.6, 882029971837301.0, 979249284826461.8, 775979708131642.9, 553828712863659.0, 597258134374650.8, 619447017175990.2, 591705241229304.1, 1504957523854084.2, 620113778365646.0, 703230828275283.0, 705086763908323.6, 567973945483395.4, 542525993661829.5, 626929273161496.4, 1217722240012143.0, 537205302881731.7, 659333682625248.8, 1904393679207123.5, 554421032746545.0, 2015007837994247.0, 544980658054612.3, 761427054945862.5, 648989025541379.2, 545388700640599.9, 1270273549859042.0, 652900919186908.0, 737958390461293.2, 537475587059813.4, 719645663831487.4, 579933898758896.8, 1031666202843357.8, 595540579169459.4, 601280561970423.2, 848822132815812.1, 689355879833628.5, 541706197001600.25, 572182448635134.2, 544980658054612.3, 680442011704260.4, 1170734403556167.0, 583880047758887.2, 888873198140639.8, 612316708482425.5, 647475319174005.4, 673468679909757.4, 1959163002603240.8, 1002681158707441.4, 1437726267688958.5, 1010626222333795.5, 623487916013730.9, 550146716274486.1, 629055770082210.2, 684865336019103.4, 1534939496080212.5, 898508315404931.5, 560363573176084.06, 783931018495379.1, 905512306035759.0, 559300324715727.25, 600135410196845.1, 581406088934775.1, 583880047758887.2, 562165337003391.75, 539099205357487.7, 548856383116493.75, 652900919186908.0, 953487112356309.0, 1081800193120249.9, 693913643147833.0, 547633269458181.8, 552929041089511.3, 540018171562965.25, 781680202940415.2, 566747120336829.8, 781680202940415.2, 537731302394470.2, 864496654745997.5, 648989025541379.2, 552929041089511.3, 919721945796456.6, 537849766371041.8, 732795651649964.4, 968585174456275.2, 819703548810067.6, 540677203895703.6, 572182448635134.2, 591412043255397.5, 669220688765826.0, 707990250088529.4, 553828712863659.0, 722671832526349.0, 537352904545156.8, 909806194048738.9, 724633069471902.2, 1010626222333795.5, 537287091224835.9, 968585174456275.2, 575269427952819.9, 684865336019103.4, 591705241229304.1, 612316708482425.5, 832165481579074.2, 537731302394470.2, 598376960820101.1, 805154377172306.5, 857895981113251.6, 538199026533513.75, 1850699867805887.5, 2751747224205561.0, 748485526582991.5, 1056430710233242.8, 871164547878423.2, 559300324715727.25, 632605240901208.5, 568776867991306.8, 547172576215937.8, 793282851057000.5, 553828712863659.0, 1405018102852079.8, 549633372375985.7, 562165337003391.75, 877899660510530.0, 805154377172306.5, 566747120336829.8, 578999349610344.0, 727700132338313.0, 607289422770109.4, 609170554661509.8, 553828712863659.0, 553828712863659.0, 684865336019103.4, 586421226082679.2, 909806194048738.9, 924097622152540.2, 616806860217241.2, 643656970356285.4, 622158486943255.5, 542196927060226.4, 5485219349554054.0, 583880047758887.2, 971573099198830.1, 698538625961717.8, 991736413853827.9, 609170554661509.8, 1179997531848002.5, 552929041089511.3, 612316708482425.5, 842382223510555.5, 603079905518719.9, 1007506670950600.0, 578999349610344.0, 639905841038248.2, 931344165453961.6, 540268262180183.75, 1189327879639516.5, 589029623906152.0, 1018638505459830.2, 582366963411456.4, 888873198140639.8, 542196927060226.4, 539426358729905.6, 1179997531848002.5, 594448078052137.5, 539650124018995.94, 537352904545156.8, 709872511049697.6, 737958390461293.2, 543985528223469.5, 695716928124617.8, 861903609925366.6, 544367245481327.9, 643656970356285.4, 1051359832960771.8, 542525993661829.5, 836009533704980.5, 669220688765826.0, 1093773931079757.8, 578999349610344.0, 1721170704280433.5, 639905841038248.2, 550146716274486.1, 717710752214062.2, 861903609925366.6, 632605240901208.5, 548856383116493.75, 748485526582991.5, 549633372375985.7, 635493215596177.2, 848822132815812.1, 537849766371041.8, 574387529460523.5, 819703548810067.6, 1143348335678748.0, 1415853604964694.0, 1048108654936933.9, 686615970339632.5, 789725058131959.8, 543057617892007.8, 597258134374650.8, 583880047758887.2, 618810674623298.5, 1300360154208382.2, 793282851057000.5, 581406088934775.1, 560363573176084.06, 618810674623298.5, 555361598692244.3, 801514795904162.0, 550964599705528.56, 805154377172306.5, 597258134374650.8, 1015492628748506.6, 556961704020510.94, 898508315404931.5, 724633069471902.2, 641366896749363.0, 589029623906152.0, 761427054945862.5, 639905841038248.2, 537124920717986.6, 682166320696659.5, 613567161568516.1, 572182448635134.2, 537205302881731.7, 848822132815812.1, 543057617892007.8, 727700132338313.0, 604251382620431.2, 691132839482284.9, 548856383116493.75, 603079905518719.9, 698538625961717.8, 550146716274486.1, 709872511049697.6, 811190969479480.2, 547172576215937.8, 712816891401455.5, 669220688765826.0, 537287091224835.9, 732795651649964.4, 552929041089511.3, 1551122751291110.2, 538615506195660.4, 829704063399084.4, 673468679909757.4, 634013645956069.0, 578999349610344.0, 976235034755778.8, 539426358729905.6, 1073276479324899.6, 855329261620748.9, 693913643147833.0, 538199026533513.75, 594448078052137.5, 825900905444731.8, 566747120336829.8, 676085906889097.2, 888873198140639.8, 537567725708261.75, 719645663831487.4, 895783643943658.5, 1310523461324190.0, 1128915160569191.8, 558629028848456.6, 540018171562965.25, 629055770082210.2, 805154377172306.5, 663420909441690.0, 1064819985029231.1, 724633069471902.2, 564784592182033.1, 589029623906152.0, 538444391562827.44, 537111758053920.3, 1002681158707441.4, 583880047758887.2, 793282851057000.5, 727700132338313.0, 916918298350798.9, 544367245481327.9, 1034864730210939.2, 1031666202843357.8, 2821304837531376.0, 570044587309425.4, 801514795904162.0, 695716928124617.8, 1327010796187163.5, 552363046534753.56, 568776867991306.8, 898508315404931.5, 1007506670950600.0, 673468679909757.4, 971573099198830.1, 817294781286335.1, 1300360154208382.2, 537475587059813.4, 540953619841051.1, 979249284826461.8, 1007506670950600.0, 671797021573614.8, 669220688765826.0, 548856383116493.75, 1341416699669697.5, 673468679909757.4, 895783643943658.5, 565970523157047.5, 1059708213585207.1, 819703548810067.6, 537205302881731.7, 595540579169459.4, 565970523157047.5, 916918298350798.9, 636221931219887.4, 568776867991306.8, 1394249820239149.5, 547172576215937.8, 626929273161496.4, 575269427952819.9, 1031666202843357.8, 556961704020510.94, 717710752214062.2, 540018171562965.25, 665039917121576.2, 1007506670950600.0, 909806194048738.9, 643656970356285.4, 1143348335678748.0, 1622387177437061.8, 618810674623298.5, 799185004364812.6, 986992689953775.2, 968585174456275.2, 552929041089511.3, 540268262180183.75, 1383548757125897.2, 941540551685105.5, 842382223510555.5, 560363573176084.06, 592771417018497.6, 667575355757811.4, 564784592182033.1, 537352904545156.8, 855329261620748.9, 931344165453961.6, 559300324715727.25, 542196927060226.4, 775979708131642.9, 543413009821739.1, 764780377013141.5, 829704063399084.4, 877899660510530.0, 766952216583720.6, 748485526582991.5, 680442011704260.4, 2891937962852073.0, 538615506195660.4, 548856383116493.75, 759281540703411.9, 656880032332117.0, 766952216583720.6, 537287091224835.9, 976235034755778.8, 663420909441690.0, 979249284826461.8, 2144591058355317.8, 778204198358476.2, 811190969479480.2, 842382223510555.5, 555361598692244.3, 547172576215937.8, 1146889092311995.5, 1236987911092296.5, 564034320330379.0, 924097622152540.2, 572182448635134.2, 722671832526349.0, 562165337003391.75, 676085906889097.2, 550964599705528.56, 1043078671836015.4, 562165337003391.75, 2086326320975815.5, 641366896749363.0, 586421226082679.2, 539650124018995.94, 655313675308487.4, 902761309246359.0, 636221931219887.4, 558629028848456.6, 622158486943255.5, 537352904545156.8, 594448078052137.5, 594448078052137.5, 855329261620748.9, 799185004364812.6, 764780377013141.5, 537111758053920.3, 537287091224835.9, 548369364546121.2, 537124920717986.6, 594448078052137.5, 1039853819140306.6, 538054237228806.8, 563828535417015.8, 542705275219333.2, 597258134374650.8, 971573099198830.1, 759281540703411.9, 1189327879639516.5, 548856383116493.75, 1143348335678748.0, 1260379120741956.2, 538199026533513.75, 963964133070878.0, 594448078052137.5, 1850699867805887.5, 722671832526349.0, 2129924044760925.0, 817294781286335.1, 1824256279103354.2, 641366896749363.0, 714725477690752.5, 591705241229304.1, 567973945483395.4, 2388405127822192.5, 712816891401455.5, 562165337003391.75, 695716928124617.8, 1850699867805887.5, 539650124018995.94, 550964599705528.56, 597258134374650.8, 537124920717986.6, 604251382620431.2, 542196927060226.4, 545388700640599.9, 1099049279209989.5, 764780377013141.5, 659333682625248.8, 537352904545156.8, 564034320330379.0, 689355879833628.5, 600135410196845.1, 607289422770109.4, 573038021799301.8, 549633372375985.7, 665039917121576.2, 641366896749363.0, 550964599705528.56, 1202424155532729.0, 909806194048738.9, 540268262180183.75, 603079905518719.9, 542196927060226.4, 714725477690752.5, 537475587059813.4, 550964599705528.56, 667575355757811.4, 1059708213585207.1, 610394682419472.6, 618810674623298.5, 538615506195660.4, 1411602064471982.5, 603079905518719.9, 3299644929024522.0, 983952114554969.1, 618810674623298.5, 565970523157047.5, 548369364546121.2, 629055770082210.2, 703230828275283.0, 793282851057000.5, 770346432822553.2, 548856383116493.75, 575269427952819.9, 1125427054592204.0, 555361598692244.3, 682166320696659.5, 659333682625248.8, 875253965033642.1, 639905841038248.2, 848822132815812.1, 1134354085385634.8, 560363573176084.06, 729687694611997.8, 1107774651504381.1, 764780377013141.5, 924097622152540.2, 537731302394470.2, 561061194371481.9, 832165481579074.2, 570044587309425.4, 948947859314016.4, 609170554661509.8, 832165481579074.2, 1183643589793761.5, 848822132815812.1, 963964133070878.0, 562165337003391.75, 1099049279209989.5, 882029971837301.0, 882029971837301.0, 1300360154208382.2, 537731302394470.2, 544367245481327.9, 712816891401455.5, 1198725446930710.5, 540677203895703.6, 553828712863659.0, 838497277213098.9, 561061194371481.9, 1189327879639516.5, 558629028848456.6, 991736413853827.9, 543057617892007.8, 1073276479324899.6, 1658926853755722.8, 1260379120741956.2, 540018171562965.25, 537849766371041.8, 1073276479324899.6, 1331051734054846.5, 590069474367216.5, 561061194371481.9, 727700132338313.0, 586421226082679.2, 1073276479324899.6, 700368236266630.1, 570044587309425.4, 671797021573614.8, 813573411675085.4, 639905841038248.2, 565970523157047.5, 734809539251774.2, 659333682625248.8, 698538625961717.8, 586421226082679.2, 625573518762892.0, 625573518762892.0, 647475319174005.4, 842382223510555.5, 737958390461293.2, 677783890553367.0, 660926364977005.6, 622158486943255.5, 717710752214062.2, 577568053606017.9, 766952216583720.6, 539099205357487.7, 1015492628748506.6, 574387529460523.5, 562165337003391.75, 541403455728125.0, 1007506670950600.0, 573038021799301.8, 562889283526917.4, 991736413853827.9, 574387529460523.5, 1798081568399539.5, 549633372375985.7, 700368236266630.1, 547633269458181.8, 594448078052137.5, 1093773931079757.8, 651360887491405.9, 607289422770109.4, 1189327879639516.5, 557606674559652.5, 1174354136173800.0, 538444391562827.44, 667575355757811.4, 2000945799896975.0, 591705241229304.1, 538199026533513.75, 555980243903258.56, 1051359832960771.8, 629055770082210.2, 724633069471902.2, 550146716274486.1, 537111758053920.3, 667575355757811.4, 547633269458181.8, 1048108654936933.9, 743188348772302.0, 615530081803021.2, 570873835145464.0, 781680202940415.2, 555361598692244.3, 591705241229304.1, 549633372375985.7, 547172576215937.8, 551504268932158.8, 537567725708261.75, 552363046534753.56, 600135410196845.1, 594448078052137.5, 543413009821739.1, 909806194048738.9, 714725477690752.5, 811190969479480.2, 691132839482284.9, 548369364546121.2, 766952216583720.6, 737958390461293.2, 759281540703411.9, 748485526582991.5, 577568053606017.9, 625573518762892.0, 578999349610344.0, 544980658054612.3, 573038021799301.8, 607289422770109.4, 558276068282121.0, 1296398192325084.0, 623487916013730.9, 538054237228806.8, 1039853819140306.6, 1372914913512326.5, 541403455728125.0, 542196927060226.4, 547633269458181.8, 811190969479480.2, 861903609925366.6, 665039917121576.2, 591705241229304.1, 667575355757811.4, 587434751215616.2, 589029623906152.0, 560363573176084.06, 813573411675085.4, 540018171562965.25, 676085906889097.2, 968585174456275.2, 555361598692244.3, 632605240901208.5, 745254887030368.8, 595540579169459.4, 882029971837301.0, 618810674623298.5, 805154377172306.5, 587434751215616.2, 544367245481327.9, 575269427952819.9, 1015492628748506.6, 655313675308487.4, 589029623906152.0, 541403455728125.0, 597258134374650.8, 553828712863659.0, 976235034755778.8, 753849923893360.4, 655313675308487.4, 4530457988192278.0, 562165337003391.75, 888873198140639.8, 632605240901208.5, 938657928255064.0, 589029623906152.0, 2769035798287494.0, 931344165453961.6, 801514795904162.0, 544367245481327.9, 799185004364812.6, 607289422770109.4, 2356987296143308.0, 651360887491405.9, 1023545806046091.5, 1064819985029231.1, 540018171562965.25, 1189327879639516.5, 707990250088529.4, 567973945483395.4, 647475319174005.4, 667575355757811.4, 592771417018497.6, 999587932652373.2, 968585174456275.2, 609170554661509.8, 546477375299549.6, 568776867991306.8, 589029623906152.0, 1043078671836015.4, 638024660240039.2, 787447917248866.8, 1018638505459830.2, 707990250088529.4, 537287091224835.9, 693913643147833.0, 546477375299549.6, 651360887491405.9, 817294781286335.1, 615530081803021.2, 691132839482284.9, 734809539251774.2, 547633269458181.8, 539426358729905.6, 591705241229304.1, 647475319174005.4, 793282851057000.5, 700368236266630.1, 537124920717986.6, 579933898758896.8, 729687694611997.8, 634013645956069.0, 805154377172306.5, 591705241229304.1, 660926364977005.6, 544980658054612.3, 553828712863659.0, 857895981113251.6, 583880047758887.2, 799185004364812.6, 663420909441690.0, 729687694611997.8, 537475587059813.4, 625573518762892.0, 924097622152540.2, 541403455728125.0, 581406088934775.1, 598376960820101.1, 537352904545156.8, 770346432822553.2, 560363573176084.06, 2751747224205561.0, 552363046534753.56, 573038021799301.8, 543413009821739.1, 537124920717986.6, 537475587059813.4, 564784592182033.1, 916918298350798.9, 570873835145464.0, 552363046534753.56, 568776867991306.8, 556961704020510.94, 1811135314001608.2, 544980658054612.3, 722671832526349.0, 541403455728125.0, 669220688765826.0, 759281540703411.9, 538615506195660.4, 898508315404931.5, 541706197001600.25, 656880032332117.0, 905512306035759.0, 761427054945862.5, 548369364546121.2, 931344165453961.6, 663420909441690.0, 902761309246359.0, 924097622152540.2, 562165337003391.75, 698538625961717.8, 639905841038248.2, 737958390461293.2, 667575355757811.4, 663420909441690.0, 541706197001600.25, 548369364546121.2, 574387529460523.5, 700407440547182.8, 842382223510555.5, 543413009821739.1, 632605240901208.5, 953487112356309.0, 612316708482425.5, 669220688765826.0, 546043007385435.06, 545388700640599.9, 778204198358476.2, 587434751215616.2, 586421226082679.2, 789725058131959.8, 578999349610344.0, 719645663831487.4, 781680202940415.2, 595540579169459.4, 551504268932158.8, 1076606633333121.5, 722671832526349.0, 597258134374650.8, 545388700640599.9, 931344165453961.6, 1073276479324899.6, 537111758053920.3, 547172576215937.8, 540268262180183.75, 581406088934775.1, 836009533704980.5, 1236987911092296.5, 695716928124617.8, 570873835145464.0, 817294781286335.1, 1010626222333795.5, 659333682625248.8, 645144351395531.0, 547172576215937.8, 641366896749363.0, 1099049279209989.5, 1231099150388781.5, 707990250088529.4, 1076606633333121.5, 2856486961192361.0, 748485526582991.5, 941540551685105.5, 613567161568516.1, 538199026533513.75, 1048108654936933.9, 709872511049697.6, 652900919186908.0, 1039853819140306.6, 745254887030368.8, 842382223510555.5, 639905841038248.2, 540953619841051.1, 698538625961717.8, 568776867991306.8, 594448078052137.5, 562165337003391.75, 550964599705528.56, 539650124018995.94, 542525993661829.5, 680442011704260.4, 686615970339632.5, 540268262180183.75, 544980658054612.3, 968585174456275.2, 7034962609377290.0, 555361598692244.3, 1746538780988081.2, 1351848884784227.0, 2115324250666207.5, 547172576215937.8, 882029971837301.0, 1043078671836015.4, 1018638505459830.2, 1351848884784227.0, 1146889092311995.5, 1031666202843357.8, 1048108654936933.9, 968585174456275.2, 665039917121576.2, 581406088934775.1, 968585174456275.2, 553828712863659.0, 607289422770109.4, 864496654745997.5, 813573411675085.4, 597258134374650.8, 555361598692244.3, 882029971837301.0, 604251382620431.2, 795586317268221.0, 565970523157047.5, 643656970356285.4, 1945369842504689.2, 1043078671836015.4, 817294781286335.1, 567973945483395.4, 770346432822553.2, 537124920717986.6, 560363573176084.06, 1111210106825114.9, 838497277213098.9, 541403455728125.0, 836009533704980.5, 559300324715727.25, 855329261620748.9, 924097622152540.2, 544367245481327.9, 682166320696659.5, 540677203895703.6, 3535743324871571.0, 722671832526349.0, 743188348772302.0, 813573411675085.4, 573038021799301.8, 674326344478505.0, 548369364546121.2, 625573518762892.0, 641366896749363.0, 1945369842504689.2, 741612303231532.6, 604251382620431.2, 855329261620748.9, 573038021799301.8, 983952114554969.1, 556961704020510.94, 622158486943255.5, 1227321465802379.0, 554421032746545.0, 556961704020510.94, 4279651684579284.5, 537475587059813.4, 1015492628748506.6, 888873198140639.8, 663420909441690.0, 538054237228806.8, 1574608682007705.0, 836009533704980.5, 1634499850043600.5, 663420909441690.0, 553828712863659.0, 1193000262913405.8, 557606674559652.5, 547172576215937.8, 578999349610344.0, 689355879833628.5, 554421032746545.0, 538444391562827.44, 665039917121576.2, 2188995416136587.5, 819703548810067.6, 539099205357487.7, 616806860217241.2, 1051359832960771.8, 963964133070878.0, 1984160083919826.2, 700368236266630.1, 548856383116493.75, 1073276479324899.6, 604251382620431.2, 566747120336829.8, 722671832526349.0, 4694296828062236.0, 967063268736336.1, 684865336019103.4, 556961704020510.94, 2751747224205561.0, 1672476315044345.0, 565970523157047.5, 829704063399084.4, 567973945483395.4, 562889283526917.4, 891571544273783.6, 1059708213585207.1, 620113778365646.0, 573038021799301.8, 576871407862591.8, 857895981113251.6, 626929273161496.4, 912583516166268.0, 877899660510530.0, 643656970356285.4, 764780377013141.5, 1250551911124549.0, 538054237228806.8, 1260379120741956.2, 1211915267651732.0, 574387529460523.5, 547633269458181.8, 745254887030368.8, 543985528223469.5, 562889283526917.4, 663420909441690.0, 926927594926324.9, 785710544908866.2, 609170554661509.8, 677783890553367.0, 548856383116493.75, 570044587309425.4, 594448078052137.5, 1018638505459830.2, 648989025541379.2, 1051359832960771.8, 615530081803021.2, 705086763908323.6, 793282851057000.5, 770346432822553.2, 811190969479480.2, 606091620340274.0, 663009161882560.0, 581406088934775.1, 1658926853755722.8, 811190969479480.2, 618121561136641.5, 626929273161496.4, 1269281082069848.5, 544980658054612.3, 541706197001600.25, 787447917248866.8, 663420909441690.0, 2769035798287494.0, 2057597269284147.0, 1165131902053519.0, 722671832526349.0, 1179997531848002.5, 844896292346802.4, 712816891401455.5, 1240791921006825.0, 712816891401455.5, 807510494039783.4, 1300360154208382.2, 759281540703411.9, 712816891401455.5, 807510494039783.4, 1320753987939679.5, 581406088934775.1, 919721945796456.6, 3823425402301637.0, 612316708482425.5, 548856383116493.75, 743144307234751.6, 570044587309425.4, 761427054945862.5, 761427054945862.5, 1798081568399539.5, 1516398001463820.8, 811190969479480.2, 639905841038248.2, 543413009821739.1, 772544597721260.6, 550146716274486.1, 639905841038248.2, 673468679909757.4, 577568053606017.9, 714725477690752.5, 979249284826461.8, 951992094436242.5, 707990250088529.4, 555980243903258.56, 1759323648591424.0, 643656970356285.4, 748485526582991.5, 1290264066592255.5, 1076606633333121.5, 898508315404931.5, 548369364546121.2, 1034864730210939.2, 704137680820010.8, 573038021799301.8, 537205302881731.7, 1708587495176129.8, 537120579574095.0, 743188348772302.0, 1300360154208382.2, 557606674559652.5, 639905841038248.2, 829704063399084.4, 1772175735694449.5, 819703548810067.6, 600718931701245.8, 1128915160569191.8, 684865336019103.4, 1183643589793761.5, 1093773931079757.8, 643656970356285.4, 2356987296143308.0, 648989025541379.2, 537567725708261.75, 1064819985029231.1, 655313675308487.4, 891571544273783.6, 609170554661509.8, 624199439695076.2, 724633069471902.2, 1646679742149822.5, 581406088934775.1, 1798081568399539.5, 537475587059813.4, 2144591058355317.8, 764780377013141.5, 625573518762892.0, 628704520072793.2, 689355879833628.5, 7153724896469180.0, 663420909441690.0, 2717371734540736.0, 604251382620431.2, 919721945796456.6, 799185004364812.6, 540268262180183.75, 1733821132884417.8, 1043078671836015.4, 648989025541379.2, 606091620340274.0, 979249284826461.8, 737958390461293.2, 902001908282884.5, 663420909441690.0, 895783643943658.5, 546043007385435.06, 2436036021588123.5, 753849923893360.4, 692539256106105.4, 748485526582991.5, 748485526582991.5, 586421226082679.2, 609170554661509.8, 707990250088529.4, 659333682625248.8, 698538625961717.8, 829704063399084.4, 698538625961717.8, 660926364977005.6, 607289422770109.4, 994803314580769.6, 727700132338313.0, 938657928255064.0, 1426756326576984.0, 717710752214062.2, 1610341724330201.0, 659739380429406.8, 607289422770109.4, 1548788946509380.0, 848767966786870.8, 963964133070878.0, 539650124018995.94, 671797021573614.8, 1945369842504689.2, 651360887491405.9, 634013645956069.0, 550146716274486.1, 884701992642315.9, 622158486943255.5, 626929273161496.4, 722671832526349.0, 537205302881731.7, 552929041089511.3, 546043007385435.06, 626264591466781.9, 671797021573614.8, 546043007385435.06, 678255556859218.5, 879311502775875.4, 595540579169459.4, 686615970339632.5, 805154377172306.5, 656880032332117.0, 562165337003391.75, 761427054945862.5, 671797021573614.8, 743188348772302.0, 934200463555874.1, 1026718008085544.1, 1671241184861304.5, 1270273549859042.0, 573038021799301.8, 567973945483395.4, 718656249043365.6, 591705241229304.1, 953424509251208.5, 1931643901905816.5, 682166320696659.5, 578999349610344.0, 639905841038248.2, 549633372375985.7, 857895981113251.6, 722671832526349.0, 1493584265744027.0, 737958390461293.2, 603079905518719.9, 1250551911124549.0, 625573518762892.0, 759281540703411.9, 739998603391230.9, 625573518762892.0, 693913643147833.0, 539482515135726.0, 832165481579074.2, 759281540703411.9, 667575355757811.4, 575269427952819.9, 678255556859218.5, 1128915160569191.8, 651753141395628.2, 931344165453961.6, 682166320696659.5, 550964599705528.56, 538199026533513.75, 573038021799301.8, 592771417018497.6, 1641799718967371.5, 971573099198830.1, 604251382620431.2, 838497277213098.9, 1128915160569191.8, 1146889092311995.5, 829704063399084.4, 759281540703411.9, 2310364694872580.5, 629055770082210.2, 1598363490723022.5, 1099049279209989.5, 813573411675085.4, 748485526582991.5, 552363046534753.56, 636221931219887.4, 595540579169459.4, 594448078052137.5, 871164547878423.2, 543985528223469.5, 863226545926251.4, 540268262180183.75, 819703548810067.6, 667540313768164.9, 1120029023947314.6, 916918298350798.9, 1341416699669697.5, 667575355757811.4, 572182448635134.2, 686615970339632.5, 559300324715727.25, 625573518762892.0, 576659829785595.0, 825900905444731.8, 540953619841051.1, 924097622152540.2, 861903609925366.6, 632605240901208.5, 600135410196845.1, 584867247563696.4, 645144351395531.0, 613567161568516.1, 829704063399084.4, 1696071505571507.5, 680442011704260.4, 724633069471902.2, 1511909533017956.0, 775979708131642.9, 817294781286335.1, 647475319174005.4, 844896292346802.4, 783931018495379.1, 548856383116493.75, 766952216583720.6, 655313675308487.4, 698538625961717.8, 703230828275283.0, 2249142299507141.5, 2420091837499799.0, 743188348772302.0, 781680202940415.2, 1733821132884417.8, 540268262180183.75, 538619274756344.56, 540953619841051.1, 1211915267651732.0, 905512306035759.0, 632605240901208.5, 578999349610344.0, 1362348289398435.5, 664211829132687.4, 541403455728125.0, 727700132338313.0, 924097622152540.2, 555980243903258.56, 1622387177437061.8, 963964133070878.0, 926927594926324.9, 660926364977005.6, 560363573176084.06, 861903609925366.6, 3677937485844430.0, 582366963411456.4, 2174126744043148.2, 1034864730210939.2, 829704063399084.4, 537849766371041.8, 540811170748903.1, 622158486943255.5, 584867247563696.4, 1551122751291110.2, 869157121891230.1, 549633372375985.7, 655313675308487.4, 1179997531848002.5, 1986950981299381.5, 592771417018497.6, 598376960820101.1, 552929041089511.3, 924097622152540.2])"
      ]
     },
     "execution_count": 37,
     "metadata": {},
     "output_type": "execute_result"
    }
   ],
   "source": [
    "rr = err * err\n",
    "rr.sum()"
   ]
  },
  {
   "cell_type": "markdown",
   "metadata": {},
   "source": [
    "# Running a multiple regression"
   ]
  },
  {
   "cell_type": "markdown",
   "metadata": {},
   "source": [
    "Now we will use more than one actual feature. Use the following code to produce the weights for a second model with the following parameters:"
   ]
  },
  {
   "cell_type": "code",
   "execution_count": 25,
   "metadata": {
    "collapsed": false
   },
   "outputs": [],
   "source": [
    "model_features = ['sqft_living', 'sqft_living15'] # sqft_living15 is the average squarefeet for the nearest 15 neighbors. \n",
    "my_output = 'price'\n",
    "(feature_matrix, output) = get_numpy_data(train_data, model_features, my_output)\n",
    "initial_weights = np.array([-100000., 1., 1.])\n",
    "step_size = 4e-12\n",
    "tolerance = 1e9\n"
   ]
  },
  {
   "cell_type": "code",
   "execution_count": null,
   "metadata": {
    "collapsed": true
   },
   "outputs": [],
   "source": [
    "## \n",
    "simple_features = ['sqft_living']\n",
    "my_output = 'price'\n",
    "(simple_feature_matrix, output) = get_numpy_data(train_data, simple_features, my_output)\n",
    "initial_weights = np.array([-47000., 1.])\n",
    "step_size = 7e-12\n",
    "tolerance = 2.5e7\n",
    "\n",
    "ww = regression_gradient_descent(simple_feature_matrix, output, initial_weights, step_size, tolerance)\n",
    "\n",
    "(test_simple_feature_matrix, test_output) = get_numpy_data(test_data, simple_features, my_output)\n",
    "\n",
    "predicte = predict_output(test_simple_feature_matrix,ww)\n",
    "predicte[0]"
   ]
  },
  {
   "cell_type": "markdown",
   "metadata": {},
   "source": [
    "Use the above parameters to estimate the model weights. Record these values for your quiz."
   ]
  },
  {
   "cell_type": "code",
   "execution_count": 27,
   "metadata": {
    "collapsed": false
   },
   "outputs": [
    {
     "data": {
      "text/plain": [
       "array([ -9.99999688e+04,   2.45035462e+02,   6.53198581e+01])"
      ]
     },
     "execution_count": 27,
     "metadata": {},
     "output_type": "execute_result"
    }
   ],
   "source": [
    "www = regression_gradient_descent(feature_matrix, output, initial_weights, step_size, tolerance)\n",
    "www"
   ]
  },
  {
   "cell_type": "markdown",
   "metadata": {},
   "source": [
    "Use your newly estimated weights and the predict_output function to compute the predictions on the TEST data. Don't forget to create a numpy array for these features from the test set first!"
   ]
  },
  {
   "cell_type": "code",
   "execution_count": 28,
   "metadata": {
    "collapsed": false
   },
   "outputs": [
    {
     "data": {
      "text/plain": [
       "array([[  1.00000000e+00,   1.43000000e+03,   1.78000000e+03],\n",
       "       [  1.00000000e+00,   2.95000000e+03,   2.14000000e+03],\n",
       "       [  1.00000000e+00,   1.71000000e+03,   1.03000000e+03],\n",
       "       ..., \n",
       "       [  1.00000000e+00,   2.52000000e+03,   2.52000000e+03],\n",
       "       [  1.00000000e+00,   2.31000000e+03,   1.83000000e+03],\n",
       "       [  1.00000000e+00,   1.02000000e+03,   1.02000000e+03]])"
      ]
     },
     "execution_count": 28,
     "metadata": {},
     "output_type": "execute_result"
    }
   ],
   "source": [
    "(test_model_feature_matrix, test_output) = get_numpy_data(test_data, model_features, my_output)\n",
    "test_model_feature_matrix"
   ]
  },
  {
   "cell_type": "markdown",
   "metadata": {},
   "source": [
    "**Quiz Question: What is the predicted price for the 1st house in the TEST data set for model 2 (round to nearest dollar)?**"
   ]
  },
  {
   "cell_type": "code",
   "execution_count": 29,
   "metadata": {
    "collapsed": false
   },
   "outputs": [
    {
     "data": {
      "text/plain": [
       "366670.08904991311"
      ]
     },
     "execution_count": 29,
     "metadata": {},
     "output_type": "execute_result"
    }
   ],
   "source": [
    "predicte = predict_output(test_model_feature_matrix,www)\n",
    "predicte[0]"
   ]
  },
  {
   "cell_type": "markdown",
   "metadata": {},
   "source": [
    "What is the actual price for the 1st house in the test data set?"
   ]
  },
  {
   "cell_type": "code",
   "execution_count": 31,
   "metadata": {
    "collapsed": false
   },
   "outputs": [
    {
     "data": {
      "text/plain": [
       "310000.0"
      ]
     },
     "execution_count": 31,
     "metadata": {},
     "output_type": "execute_result"
    }
   ],
   "source": [
    "test_data['price'][0]"
   ]
  },
  {
   "cell_type": "code",
   "execution_count": null,
   "metadata": {
    "collapsed": true
   },
   "outputs": [],
   "source": []
  },
  {
   "cell_type": "markdown",
   "metadata": {},
   "source": [
    "**Quiz Question: Which estimate was closer to the true price for the 1st house on the Test data set, model 1 or model 2?**"
   ]
  },
  {
   "cell_type": "markdown",
   "metadata": {},
   "source": [
    "Now use your predictions and the output to compute the RSS for model 2 on TEST data."
   ]
  },
  {
   "cell_type": "code",
   "execution_count": null,
   "metadata": {
    "collapsed": false
   },
   "outputs": [],
   "source": []
  },
  {
   "cell_type": "markdown",
   "metadata": {},
   "source": [
    "**Quiz Question: Which model (1 or 2) has lowest RSS on all of the TEST data? **"
   ]
  },
  {
   "cell_type": "code",
   "execution_count": null,
   "metadata": {
    "collapsed": true
   },
   "outputs": [],
   "source": []
  }
 ],
 "metadata": {
  "kernelspec": {
   "display_name": "Python 2",
   "language": "python",
   "name": "python2"
  },
  "language_info": {
   "codemirror_mode": {
    "name": "ipython",
    "version": 2
   },
   "file_extension": ".py",
   "mimetype": "text/x-python",
   "name": "python",
   "nbconvert_exporter": "python",
   "pygments_lexer": "ipython2",
   "version": "2.7.11"
  }
 },
 "nbformat": 4,
 "nbformat_minor": 0
}
